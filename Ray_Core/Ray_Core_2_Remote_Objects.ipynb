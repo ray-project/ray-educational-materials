{
 "cells": [
  {
   "cell_type": "markdown",
   "metadata": {},
   "source": [
    "# Ray Core: Remote Objects\n",
    "\n",
    "© 2022, Anyscale Inc. All Rights Reserved.\n",
    "\n",
    "## Overview\n",
    "\n",
    "In Ray, tasks and actors create and compute on objects. We refer to these objects as remote objects because they can be stored anywhere in a Ray cluster, and we use object refs to refer to them. Remote objects are cached in Ray’s distributed shared-memory object store, and there is one object store per node in the cluster. In the cluster setting, a remote object can live on one or many nodes, independent of who holds the object ref(s).\n",
    "\n",
    "[*Remote Objects*](https://docs.ray.io/en/latest/walkthrough.html#objects-in-ray) reside in a distributed [*shared-memory object store*](https://en.wikipedia.org/wiki/Shared_memory).\n",
    "\n",
    "Objects are immutable and can be accessed from anywhere on the cluster, as they are stored in the cluster shared memory. An object ref is essentially a pointer or a unique ID that can be used to refer to a remote object without seeing its value. If you’re familiar with futures in Python, Java or Scala, Ray object refs are conceptually similar.\n",
    "\n",
    "\n",
    "In general, small objects are stored in their owner’s **in-process store** (**<=100KB**), while large objects are stored in the **distributed object store**. This decision is meant to reduce the memory footprint and resolution time for each object. Note that in the latter case, a placeholder object is stored in the in-process store to indicate the object has been promoted to shared memory.\n",
    "\n",
    "In the case if there is no space in the shared-memory, objects are spilled over to disk. But the main point here is that\n",
    "shared-memory allows _zero-copy_ access to processes on the same worker node.\n",
    "\n",
    "<img src=\"../_static/assets/Ray_Core/Ray_Core_2_Remote_Objects/shared_memory_plasma_store.png\"  height=\"40%\" width=\"65%\">\n",
    "\n",
    "### Learning objectives\n",
    "In this tutorial, you learn about:\n",
    " * Ray Futures as one of the patterns\n",
    " * Ray's distributed Plasma object store\n",
    " * How objects are stored and fetched from the distributed shared object store\n",
    "     * Use `ray.get` and `ray.put` examples"
   ]
  },
  {
   "cell_type": "markdown",
   "metadata": {},
   "source": [
    "## Object references as futures pattern"
   ]
  },
  {
   "cell_type": "markdown",
   "metadata": {},
   "source": [
    "First, let's start Ray…"
   ]
  },
  {
   "cell_type": "code",
   "execution_count": null,
   "metadata": {},
   "outputs": [],
   "source": [
    "import logging\n",
    "import numpy as np\n",
    "import ray"
   ]
  },
  {
   "cell_type": "code",
   "execution_count": null,
   "metadata": {},
   "outputs": [],
   "source": [
    "if ray.is_initialized:\n",
    "    ray.shutdown()\n",
    "ray.init(logging_level=logging.ERROR)"
   ]
  },
  {
   "cell_type": "markdown",
   "metadata": {},
   "source": [
    "### Remote Objects example"
   ]
  },
  {
   "cell_type": "markdown",
   "metadata": {},
   "source": [
    "To start, we'll create some python objects and put them in shared memory"
   ]
  },
  {
   "cell_type": "code",
   "execution_count": null,
   "metadata": {},
   "outputs": [],
   "source": [
    "num_list = [23, 42, 93]\n",
    "\n",
    "# returns an objectRef\n",
    "obj_ref = ray.put(num_list)\n",
    "obj_ref"
   ]
  },
  {
   "cell_type": "markdown",
   "metadata": {},
   "source": [
    "Then retrieve the value of this object reference. \n",
    "\n",
    "Small objects are resolved by copying them directly from the _owner’s_ **in-process store**. For example, if the owner calls `ray.get`, the system looks up and deserializes the value from the local **in-process store**. For larger objects greater than 100KB, they will be stored in the distributed object store."
   ]
  },
  {
   "cell_type": "code",
   "execution_count": null,
   "metadata": {},
   "outputs": [],
   "source": [
    "val = ray.get(obj_ref)\n",
    "val"
   ]
  },
  {
   "cell_type": "markdown",
   "metadata": {},
   "source": [
    "You can gather the values of multiple object references in parallel using a list comprehension:\n",
    " 1. Each value is put in the object store and its `ObjRefID` is immediately returned\n",
    " 2. The comprehension constructs a list of `ObjRefIDs` for each element in the loop\n",
    " 3. A final `get(list_obj_refs`) is invoked to fetch the list"
   ]
  },
  {
   "cell_type": "code",
   "execution_count": null,
   "metadata": {},
   "outputs": [],
   "source": [
    "results = ray.get([ray.put(i) for i in range(10)])\n",
    "results"
   ]
  },
  {
   "cell_type": "markdown",
   "metadata": {},
   "source": [
    "### Passing Objects by Reference\n",
    "\n",
    "Ray object references can be freely passed around a Ray application. This means that they can be passed as arguments to tasks, actor methods, and even stored in other objects. Objects are tracked via distributed reference counting, and their data is automatically freed once all references to the object are deleted."
   ]
  },
  {
   "cell_type": "code",
   "execution_count": null,
   "metadata": {},
   "outputs": [],
   "source": [
    "# Define a Task\n",
    "@ray.remote\n",
    "def echo(x):\n",
    "    print(f\"current value of argument x: {x}\")"
   ]
  },
  {
   "cell_type": "code",
   "execution_count": null,
   "metadata": {},
   "outputs": [],
   "source": [
    "# Define some variables\n",
    "x = list(range(10))\n",
    "obj_ref_x = ray.put(x)\n",
    "y = 25"
   ]
  },
  {
   "cell_type": "markdown",
   "metadata": {},
   "source": [
    "### Pass-by-value\n",
    "\n",
    "Send the object to a task as a top-level argument.\n",
    "The object will be *de-referenced* automatically, so the task only sees its value."
   ]
  },
  {
   "cell_type": "code",
   "execution_count": null,
   "metadata": {},
   "outputs": [],
   "source": [
    "# send y as value argument\n",
    "echo.remote(y)"
   ]
  },
  {
   "cell_type": "code",
   "execution_count": null,
   "metadata": {},
   "outputs": [],
   "source": [
    "# send a an object reference\n",
    "# note that the echo function deferences it\n",
    "echo.remote(obj_ref_x)"
   ]
  },
  {
   "cell_type": "markdown",
   "metadata": {},
   "source": [
    "### Pass-by-reference\n",
    "\n",
    "When a parameter is passed inside a Python list or as any other data structure,\n",
    "the *object ref is preserved*, meaning it's not *de-referenced*. The object data is not transferred to the worker when it is passed by reference, until `ray.get()` is called on the reference.\n",
    "\n",
    "You can pass by reference in two ways:\n",
    " 1. as a dictionary `.remote({\"obj\": obj_ref_x})`\n",
    " 2. as list of objRefs `.remote([obj_ref_x])`"
   ]
  },
  {
   "cell_type": "code",
   "execution_count": null,
   "metadata": {},
   "outputs": [],
   "source": [
    "x = list(range(20))\n",
    "obj_ref_x = ray.put(x)\n",
    "# Echo will not automaticall de-reference it\n",
    "echo.remote({\"obj\": obj_ref_x})"
   ]
  },
  {
   "cell_type": "code",
   "execution_count": null,
   "metadata": {},
   "outputs": [],
   "source": [
    "echo.remote([obj_ref_x])"
   ]
  },
  {
   "cell_type": "markdown",
   "metadata": {},
   "source": [
    "### What about long running tasks?\n",
    "\n",
    "Sometimes, you may have tasks that are long running, past their expected times due to some problem, maybe blocked on accessing a variable in the object store. How do you exit or terminate it? Use a timeout!\n",
    "\n",
    "Now let's set a timeout to return early from an attempted access of a remote object that is blocking for too long..."
   ]
  },
  {
   "cell_type": "code",
   "execution_count": null,
   "metadata": {},
   "outputs": [],
   "source": [
    "import time\n",
    "\n",
    "\n",
    "@ray.remote\n",
    "def long_running_function():\n",
    "    time.sleep(10)\n",
    "    return 42"
   ]
  },
  {
   "cell_type": "markdown",
   "metadata": {},
   "source": [
    "You can control how long you want to wait for the task to finish"
   ]
  },
  {
   "cell_type": "code",
   "execution_count": null,
   "metadata": {},
   "outputs": [],
   "source": [
    "%%time\n",
    "\n",
    "from ray.exceptions import GetTimeoutError\n",
    "\n",
    "obj_ref = long_running_function.remote()\n",
    "\n",
    "try:\n",
    "    ray.get(obj_ref, timeout=6)\n",
    "except GetTimeoutError:\n",
    "    print(\"`get` timed out\")"
   ]
  },
  {
   "cell_type": "code",
   "execution_count": null,
   "metadata": {},
   "outputs": [],
   "source": [
    "ray.shutdown()"
   ]
  },
  {
   "cell_type": "markdown",
   "metadata": {},
   "source": [
    "## Summary"
   ]
  },
  {
   "cell_type": "markdown",
   "metadata": {},
   "source": [
    "### Exercises\n",
    "\n",
    "1. Create a list of object references containing integers returned by `ray.put(x)` \n",
    " * Use comprehension to construct this list \n",
    " * write a Ray task, `my_function.remote(list_of_object_refs)`, and return the sum of the list.\n",
    "  * Use `ray.get(...)` to print the sum "
   ]
  },
  {
   "cell_type": "markdown",
   "metadata": {},
   "source": [
    "### Homework\n",
    "\n",
    "1. Read references to get advanced deep dives and more about Ray objects\n",
    "2. [Serialization](https://docs.ray.io/en/latest/ray-core/objects/serialization.html)\n",
    "3. [Memory Management](https://docs.ray.io/en/latest/ray-core/objects/memory-management.html)\n",
    "4. [Object Spilling](https://docs.ray.io/en/latest/ray-core/objects/object-spilling.html)\n",
    "5. [Fault Tolerance](https://docs.ray.io/en/latest/ray-core/objects/fault-tolerance.html)"
   ]
  },
  {
   "cell_type": "markdown",
   "metadata": {},
   "source": [
    "### References\n",
    " * [Ray Architecture Reference](https://docs.google.com/document/d/1lAy0Owi-vPz2jEqBSaHNQcy2IBSDEHyXNOQZlGuj93c/preview#)\n",
    " * [Ray Internals: A peek at ray,get](https://www.youtube.com/watch?v=a1kNnQu6vGw)\n",
    " * [Ray Internals: Object management with Ownership Model](https://www.youtube.com/watch?v=1oSBxTayfJc)\n",
    " * [Deep Dive into Ray scheduling Policies](https://www.youtube.com/watch?v=EJUYKXWGzfI)\n",
    " * [Redis in Ray: Past and future](https://www.anyscale.com/blog/redis-in-ray-past-and-future)\n",
    " * [StackOverFlow: How Ray Shares Data](https://stackoverflow.com/questions/58082023/how-exactly-does-ray-share-data-to-workers/71500979#71500979) "
   ]
  }
 ],
 "metadata": {
  "kernelspec": {
   "display_name": "Python 3 (ipykernel)",
   "language": "python",
   "name": "python3"
  },
  "language_info": {
   "codemirror_mode": {
    "name": "ipython",
    "version": 3
   },
   "file_extension": ".py",
   "mimetype": "text/x-python",
   "name": "python",
   "nbconvert_exporter": "python",
   "pygments_lexer": "ipython3",
   "version": "3.8.13"
  }
 },
 "nbformat": 4,
 "nbformat_minor": 4
}
