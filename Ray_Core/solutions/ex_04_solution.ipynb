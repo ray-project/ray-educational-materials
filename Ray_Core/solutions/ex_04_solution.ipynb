{
 "cells": [
  {
   "cell_type": "code",
   "execution_count": null,
   "id": "e425ccaf-273b-4126-8b2b-147dbbd8aa8a",
   "metadata": {},
   "outputs": [],
   "source": [
    "import logging\n",
    "import time\n",
    "import ray\n",
    "import random\n",
    "from random import randint\n",
    "import numpy as np"
   ]
  },
  {
   "cell_type": "code",
   "execution_count": null,
   "id": "2f61c376-5c2f-4f26-bd57-1b50624dadbd",
   "metadata": {},
   "outputs": [],
   "source": [
    "from collections import defaultdict\n",
    "@ray.remote\n",
    "class LoggingActor(object):\n",
    "    def __init__(self):\n",
    "        # create a container of dictionaries.\n",
    "        self.logs = defaultdict(list)\n",
    "    \n",
    "    # log the message for a particular experiment in its \n",
    "    # respective dictionary\n",
    "    def log(self, index, message):\n",
    "        self.logs[index].append(message)\n",
    "    \n",
    "    # fetch all logs as collection\n",
    "    def get_logs(self):\n",
    "        return dict(self.logs)\n",
    "    \n",
    "@ray.remote\n",
    "def run_experiment(experiment_index, logging_actor):\n",
    "    for i in range(9):\n",
    "        # pretend this is an experiment that produces a nine results for \n",
    "        # experiment result; in our case it's just a simple message \n",
    "        # Push a logging message to the actor.\n",
    "        exp_key = f\"experiment-{experiment_index}\"\n",
    "        logging_actor.log.remote(exp_key, 'On iteration {}'.format(i))  "
   ]
  },
  {
   "cell_type": "code",
   "execution_count": null,
   "id": "566abe08-0af6-42e7-ba57-532166f4d0ce",
   "metadata": {},
   "outputs": [],
   "source": [
    "if ray.is_initialized:\n",
    "    ray.shutdown()\n",
    "ray.init(logging_level=logging.ERROR)"
   ]
  },
  {
   "cell_type": "markdown",
   "id": "272895a1-4fb1-4235-9ddd-65e76930554e",
   "metadata": {},
   "source": [
    "Run three experiments."
   ]
  },
  {
   "cell_type": "code",
   "execution_count": null,
   "id": "cd2a3f51-92a1-4ff9-8d22-56b47ebf69da",
   "metadata": {},
   "outputs": [],
   "source": [
    "logging_actor = LoggingActor.remote()\n",
    "experiment_ids = []\n",
    "# Run three different experiments\n",
    "for i in range(3):\n",
    "    experiment_ids.append(run_experiment.remote(i, logging_actor))"
   ]
  },
  {
   "cell_type": "markdown",
   "id": "50212dd0-bd49-48f0-b5b2-27cb0baa3d52",
   "metadata": {},
   "source": [
    "### Fetch the results \n",
    "\n",
    "For each experement, we will have 9 iteration results"
   ]
  },
  {
   "cell_type": "code",
   "execution_count": null,
   "id": "3ed4fc03-339f-4866-a3ef-dfd12051d078",
   "metadata": {},
   "outputs": [],
   "source": [
    "for i in range(3):\n",
    "    time.sleep(1)\n",
    "    logs = logging_actor.get_logs.remote()\n",
    "    print(ray.get(logs))"
   ]
  },
  {
   "cell_type": "code",
   "execution_count": null,
   "id": "13c39791-63e1-4563-9d7c-e9aab7700d34",
   "metadata": {},
   "outputs": [],
   "source": [
    "ray.shutdown()"
   ]
  }
 ],
 "metadata": {
  "kernelspec": {
   "display_name": "Python 3 (ipykernel)",
   "language": "python",
   "name": "python3"
  },
  "language_info": {
   "codemirror_mode": {
    "name": "ipython",
    "version": 3
   },
   "file_extension": ".py",
   "mimetype": "text/x-python",
   "name": "python",
   "nbconvert_exporter": "python",
   "pygments_lexer": "ipython3",
   "version": "3.8.13"
  }
 },
 "nbformat": 4,
 "nbformat_minor": 5
}
