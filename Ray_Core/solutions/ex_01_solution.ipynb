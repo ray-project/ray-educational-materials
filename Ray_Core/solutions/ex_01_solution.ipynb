{
 "cells": [
  {
   "cell_type": "code",
   "execution_count": null,
   "id": "db1a7d02-4378-4184-bd08-d29c7ae8d8ab",
   "metadata": {},
   "outputs": [],
   "source": [
    "import math\n",
    "import numpy as np\n",
    "import logging\n",
    "from pprint import pprint\n",
    "from typing import List\n",
    "import ray"
   ]
  },
  {
   "cell_type": "code",
   "execution_count": null,
   "id": "b4ef2d84-4903-429e-96c8-a24210ceec34",
   "metadata": {},
   "outputs": [],
   "source": [
    "@ray.remote\n",
    "def remote_method(num: int, dims=10) -> List[np.array]:\n",
    "    dot_products = []\n",
    "    for _ in range(num):\n",
    "        # Create a dims x dims matrix\n",
    "        x = np.random.rand(dims, dims)\n",
    "        y = np.random.rand(dims, dims)\n",
    "        # Create a dot product of itself\n",
    "        dot_products.append(np.dot(x, y))\n",
    "    return dot_products"
   ]
  },
  {
   "cell_type": "code",
   "execution_count": null,
   "id": "68e43170-0260-4f7b-91df-4433770145a2",
   "metadata": {},
   "outputs": [],
   "source": [
    "if ray.is_initialized:\n",
    "    ray.shutdown()\n",
    "ray.init(logging_level=logging.ERROR)"
   ]
  },
  {
   "cell_type": "code",
   "execution_count": null,
   "id": "f0677e24-0b30-4831-b348-2ce8147576a8",
   "metadata": {},
   "outputs": [],
   "source": [
    "results = [remote_method.remote(i, 5_000) for i in range(5)]\n",
    "print(ray.get(results))"
   ]
  },
  {
   "cell_type": "code",
   "execution_count": null,
   "id": "8482dfac-4043-410c-a75d-1588cfd893c7",
   "metadata": {},
   "outputs": [],
   "source": [
    "ray.shutdown()"
   ]
  }
 ],
 "metadata": {
  "kernelspec": {
   "display_name": "Python 3 (ipykernel)",
   "language": "python",
   "name": "python3"
  },
  "language_info": {
   "codemirror_mode": {
    "name": "ipython",
    "version": 3
   },
   "file_extension": ".py",
   "mimetype": "text/x-python",
   "name": "python",
   "nbconvert_exporter": "python",
   "pygments_lexer": "ipython3",
   "version": "3.8.13"
  }
 },
 "nbformat": 4,
 "nbformat_minor": 5
}
