{
 "cells": [
  {
   "cell_type": "markdown",
   "id": "82199b11-1e0a-428e-b319-9b28ea0b5abe",
   "metadata": {},
   "source": [
    "# Ray Core: Design Patterns, Anti-patterns and Best Practices\n",
    "© 2023, Anyscale. All Rights Reserved\n",
    "\n",
    "Ray has a myriad of design patterns and anti-patterns for [tasks](https://docs.ray.io/en/latest/ray-core/tasks/patterns/index.html#task-patterns) and [actors](https://docs.ray.io/en/latest/ray-core/actors/patterns/index.html). \n",
    "\n",
    "These patterns suggest the best practices to you to write distributed applications. By contrast, the patterns and anti-patterns are adivce and admonitions for you to avoid pitfall while using Ray. \n",
    "\n",
    "In this tutorial we'll explore a few of these design patterns, anti-patterns, tricks and trips first time Ray users."
   ]
  },
  {
   "cell_type": "markdown",
   "id": "e69ca38a-c2a3-4c46-9c1d-f2d49755631c",
   "metadata": {},
   "source": [
    "## Learning objectives\n",
    "\n",
    "In this this tutorial, you'll learn about:\n",
    " * Some design patterns and anti-patterns\n",
    " * Tricks and Tips to avoid when using Ray APIs\n",
    " \n",
    "We won't exhaustively cover all the patterns and anti-pattern. Rather, offer you a glimpse of some common pitfalls. For advanced patterns, take a read at the docs on [Design patterns and anti-patterns](https://docs.ray.io/en/latest/ray-core/patterns/index.html#task-patterns)."
   ]
  },
  {
   "cell_type": "code",
   "execution_count": null,
   "id": "12ae822a-5dde-433e-a0d6-858a974f3084",
   "metadata": {},
   "outputs": [],
   "source": [
    "import logging\n",
    "import math\n",
    "import random\n",
    "import time\n",
    "from typing import List, Tuple\n",
    "\n",
    "import numpy as np\n",
    "import ray"
   ]
  },
  {
   "cell_type": "code",
   "execution_count": null,
   "id": "21394dd7-2595-4345-bcac-fc7d2fbff101",
   "metadata": {},
   "outputs": [],
   "source": [
    "if ray.is_initialized:\n",
    "    ray.shutdown()\n",
    "ray.init(logging_level=logging.ERROR)"
   ]
  },
  {
   "cell_type": "markdown",
   "id": "7cecb225-55f7-4819-af07-9f45313a34f1",
   "metadata": {},
   "source": [
    "### Fetching Cluster Information\n",
    "\n",
    "Many methods return information:\n",
    "\n",
    "| Method | Brief Description |\n",
    "| :----- | :---------------- |\n",
    "| [`ray.get_gpu_ids()`](https://ray.readthedocs.io/en/latest/package-ref.html#ray.get_gpu_ids) | GPUs |\n",
    "| [`ray.nodes()`](https://ray.readthedocs.io/en/latest/package-ref.html#ray.nodes) | Cluster nodes |\n",
    "| [`ray.cluster_resources()`](https://ray.readthedocs.io/en/latest/package-ref.html#ray.cluster_resources) | All the available resources, used or not |\n",
    "| [`ray.available_resources()`](https://ray.readthedocs.io/en/latest/package-ref.html#ray.available_resources) | Resources not in use |\n",
    "\n",
    "You can see the full list of methods in the [Ray Core](https://docs.ray.io/en/latest/ray-core/api/core.html#core-api) API documention."
   ]
  },
  {
   "cell_type": "code",
   "execution_count": null,
   "id": "3f3ff93c-45da-4df0-a732-978bd2c12e2f",
   "metadata": {},
   "outputs": [],
   "source": [
    "print(f\"\"\"\n",
    "ray.get_gpu_ids():          {ray.get_gpu_ids()}\n",
    "ray.nodes():                {ray.nodes()}\n",
    "ray.cluster_resources():    {ray.cluster_resources()}\n",
    "ray.available_resources():  {ray.available_resources()}\n",
    "\"\"\")"
   ]
  },
  {
   "cell_type": "code",
   "execution_count": null,
   "id": "9eb8b34a-9fe7-4a13-ad10-b06ce38d6479",
   "metadata": {},
   "outputs": [],
   "source": [
    "ray.nodes()[0]['Resources']['CPU']"
   ]
  },
  {
   "cell_type": "markdown",
   "id": "fb4eec5a-fdbd-4ecf-a8fb-90e6afde6208",
   "metadata": {},
   "source": [
    "## Tips and Tricks and Patterns and Anti-patterns for first-time users\n",
    "Because Ray's core APIs are simple and flexible, first time users can trip upon certain API calls in Ray's usage patterns. This short tips & tricks will insure you against unexpected results. Below we briefly explore a handful of API calls and their best practices."
   ]
  },
  {
   "cell_type": "markdown",
   "id": "2d0d02f8-5f28-47de-b41c-debbcdc334c9",
   "metadata": {},
   "source": [
    "### Use @ray.remote and @ray.method to return multiple arguments\n",
    "Often, you may wish to return more than a single argument from a Ray Task, or \n",
    "return more than a single value from an Ray Actor's method. \n",
    "\n",
    "Let's look at some examples how you do it."
   ]
  },
  {
   "cell_type": "code",
   "execution_count": null,
   "id": "fd353e95-387a-4ab2-95ed-8a253a0c153a",
   "metadata": {},
   "outputs": [],
   "source": [
    "@ray.remote(num_returns=3)\n",
    "def tuple3(id: str, lst: List[float]) -> Tuple[str, int, float]:\n",
    "    one = id.capitalize()\n",
    "    two = random.randint(5, 10)\n",
    "    three = sum(lst)\n",
    "    return (one, two, three)\n",
    "\n",
    "# Return three object references with three distinct values in each \n",
    "x_ref, y_ref, z_ref = tuple3.remote(\"ray rocks!\", [2.2, 4.4, 6.6])\n",
    "\n",
    "# Fetch the list of references\n",
    "x, y, z = ray.get([x_ref, y_ref, z_ref])\n",
    "print(f'{x}, {y}, {z:.2f}')"
   ]
  },
  {
   "cell_type": "markdown",
   "id": "7fd79f4e-cd78-4888-9cc2-bfe34e3e73bb",
   "metadata": {},
   "source": [
    "A slight variation of the above example is pack all values in a single return, and then unpack them."
   ]
  },
  {
   "cell_type": "code",
   "execution_count": null,
   "id": "23334d0e-9850-46ad-9d05-1fc0e130a7d7",
   "metadata": {},
   "outputs": [],
   "source": [
    "@ray.remote(num_returns=1)\n",
    "def tuple3_packed(id: str, lst: List[float]) -> Tuple[str, int, float]:\n",
    "    one = id.capitalize()\n",
    "    two = random.randint(5, 10)\n",
    "    three = sum(lst)\n",
    "    return (one, two, three)\n",
    "\n",
    "# Returns one object references with three values in it\n",
    "xyz_ref = tuple3_packed.remote(\"ray rocks!\", [2.2, 4.4, 6.6])\n",
    "\n",
    "# Fetch from a single object ref and unpack into three values\n",
    "x, y, z = ray.get(xyz_ref)\n",
    "print(f'({x}, {y}, {z:.2f})')"
   ]
  },
  {
   "cell_type": "markdown",
   "id": "77043af0-ec9c-491c-a455-3d550efe8fb0",
   "metadata": {},
   "source": [
    "Let's do the same for an Ray actor method, except here\n",
    "we are using a decorator `@ray.method(num_returns=3)` to decorate\n",
    "a Ray actor's method."
   ]
  },
  {
   "cell_type": "code",
   "execution_count": null,
   "id": "be970c8f-63f8-48c1-8b41-b25ef815adab",
   "metadata": {},
   "outputs": [],
   "source": [
    "@ray.remote\n",
    "class TupleActor:\n",
    "    @ray.method(num_returns=3)\n",
    "    def tuple3(self, id: str, lst: List[float]) -> Tuple[str, int, float]:\n",
    "        one = id.capitalize()\n",
    "        two = random.randint(5, 10)\n",
    "        three = sum(lst)\n",
    "        return (one, two, three)\n",
    "    \n",
    "# Create an instance of an actor\n",
    "actor = TupleActor.remote()\n",
    "x_ref, y_ref, z_ref = actor.tuple3.remote(\"ray rocks!\", [2.2, 4.4, 5.5])\n",
    "x, y, z = ray.get([x_ref, y_ref, z_ref])\n",
    "print(f'({x}, {y}, {z:.2f})')   "
   ]
  },
  {
   "cell_type": "markdown",
   "id": "4a56c554-425e-44ee-a6a4-1a754331025f",
   "metadata": {},
   "source": [
    "### Anti-pattern: Calling ray.get in a loop harms parallelism\n",
    "\n",
    "With Ray, all invocations of `.remote()` calls are asynchronous, meaning the operation returns immediately with a promise/future object Reference ID. This is key to achieving massive parallelism, for it allows a devloper to launch many remote tasks, each returning a remote future object ID. Whenever needed, this object ID is fetched with `ray.get.` Because `ray.get` is a blocking call, where and how often you use can affect the performance of your Ray application.\n",
    "\n",
    "**TLDR**: Avoid calling `ray.get()` in a loop since it’s a blocking call; use `ray.get()` only for the final result.\n",
    "\n",
    "\n",
    "<img src=\"https://technical-training-assets.s3.us-west-2.amazonaws.com/Ray_Core/ray-get-loop.png\" height=\"70%\" width=\"70%\">"
   ]
  },
  {
   "cell_type": "code",
   "execution_count": null,
   "id": "cb62c5e3-8834-4574-be25-eea7cd17b58f",
   "metadata": {},
   "outputs": [],
   "source": [
    "@ray.remote\n",
    "def do_some_work(x):\n",
    "    # Assume doing some computation\n",
    "    time.sleep(0.5)\n",
    "    return math.exp(x)"
   ]
  },
  {
   "cell_type": "markdown",
   "id": "10c0c73c-acc8-45eb-9a36-a21880a7bb1f",
   "metadata": {},
   "source": [
    "#### Bad usage\n",
    "We use `ray.get` inside a list comprehension loop, hence it blocks on each call of `.remote()`, delaying until the task is finished and the value\n",
    "is materialized and fetched from the Ray object store."
   ]
  },
  {
   "cell_type": "code",
   "execution_count": null,
   "id": "0b09cd56-70ca-478d-9ac0-f7cca535db99",
   "metadata": {},
   "outputs": [],
   "source": [
    "%%time\n",
    "results = [ray.get(do_some_work.remote(x)) for x in range(25)]\n",
    "results[:5]"
   ]
  },
  {
   "cell_type": "markdown",
   "id": "d5a6e94d-2b44-4a33-85fa-a717f4087976",
   "metadata": {},
   "source": [
    "#### Good usage\n",
    "We delay `ray.get` after all the tasks have been invoked and their references have been returned. That is, we don't block on each call but instead do outside the comprehension loop.\n"
   ]
  },
  {
   "cell_type": "code",
   "execution_count": null,
   "id": "5bc26807-64a5-40fa-982e-96d9e7aaf08f",
   "metadata": {},
   "outputs": [],
   "source": [
    "%%time\n",
    "results = ray.get([do_some_work.remote(x) for x in range(10)])\n",
    "results[:5]"
   ]
  },
  {
   "cell_type": "markdown",
   "id": "e94a62d0-b9a7-4e52-b334-57f75e84f823",
   "metadata": {},
   "source": [
    "### Anti-pattern: Over-parallelizing with too fine-grained tasks harms speedup\n",
    "\n",
    "Ray APIs are general and simple to use. As a result, new comers' natural instinct is to parallelize all tasks, including tiny ones, which can incur an overhead over time. In short, if the Ray remote tasks are tiny or miniscule in compute, they may take longer to execute than their serial Python equivalents.\n",
    "\n",
    "**TLDR**: Where possible strive to batch tiny smaller Ray tasks into chuncks to reap the benefits of distributing them."
   ]
  },
  {
   "cell_type": "code",
   "execution_count": null,
   "id": "5c637e9d-077f-4e3d-961b-e2de1b04a852",
   "metadata": {},
   "outputs": [],
   "source": [
    "# Using regular Python task that returns double of the number\n",
    "def tiny_task(x):\n",
    "    time.sleep(0.00001)\n",
    "    return 2 * x"
   ]
  },
  {
   "cell_type": "markdown",
   "id": "0b51e94b-3cc6-4936-9fa3-e66ab75f4142",
   "metadata": {},
   "source": [
    "Run this as a regular sequential Python task."
   ]
  },
  {
   "cell_type": "code",
   "execution_count": null,
   "id": "7448351a-cbf5-4f20-ad45-c75e94814469",
   "metadata": {},
   "outputs": [],
   "source": [
    "start_time = time.time()\n",
    "results = [tiny_task(x) for x in range(100000)]\n",
    "end_time = time.time()\n",
    "print(f\"Ordinary funciton call takes {end_time - start_time:.2f} seconds\")"
   ]
  },
  {
   "cell_type": "code",
   "execution_count": null,
   "id": "846e2594-cb9a-40ff-a797-8217f899f1cc",
   "metadata": {},
   "outputs": [],
   "source": [
    "results[:5], len(results)"
   ]
  },
  {
   "cell_type": "markdown",
   "id": "2659ea3d-09f8-405e-96db-6faa8fb963b1",
   "metadata": {},
   "source": [
    "Now convert this into Ray remote task"
   ]
  },
  {
   "cell_type": "code",
   "execution_count": null,
   "id": "53cba8d7-513b-4682-9382-007984b93ed0",
   "metadata": {},
   "outputs": [],
   "source": [
    "@ray.remote\n",
    "def remote_tiny_task(x):\n",
    "    time.sleep(0.00001)\n",
    "    return 2 * x"
   ]
  },
  {
   "cell_type": "code",
   "execution_count": null,
   "id": "ccdd5b0a-a9b2-41ff-8086-24c426682e45",
   "metadata": {},
   "outputs": [],
   "source": [
    "start_time = time.time()\n",
    "result_ids = [remote_tiny_task.remote(x) for x in range(100000)]\n",
    "results = ray.get(result_ids)\n",
    "end_time = time.time()\n",
    "print(f\"Parallelizing Ray tasks takes {end_time - start_time:.2f} seconds\")"
   ]
  },
  {
   "cell_type": "code",
   "execution_count": null,
   "id": "66e28ba8-cfc7-459b-bad4-a8995e7f702e",
   "metadata": {},
   "outputs": [],
   "source": [
    "results[:5], len(results)"
   ]
  },
  {
   "cell_type": "markdown",
   "id": "c91612f6-e5d1-48c2-9916-e948b9256e19",
   "metadata": {},
   "source": [
    "Surprisingly, Ray didn’t improve the execution time. In fact, Ray program is actually much slower in execution time than the sequential program! \n",
    "\n",
    "_What's going on?_ \n",
    "\n",
    "Well, the issue here is that every task invocation has a non-trivial overhead (e.g., scheduling, inter-process communication, updating the system state), and this overhead dominates the actual time it takes to execute the task.\n",
    "\n",
    "_What can we do to remedy it?_\n",
    "\n",
    "One way to mitigate is to make the remote tasks \"larger\" in order to amortize invocation overhead. This is achieved by aggregating tasks into bigger chunks of 1000.\n",
    "\n",
    "**Better approach**: Use batching or chunking\n"
   ]
  },
  {
   "cell_type": "code",
   "execution_count": null,
   "id": "6f9d88df-42e3-4cef-af52-a0d5af798767",
   "metadata": {},
   "outputs": [],
   "source": [
    "@ray.remote\n",
    "def mega_work(start, end):\n",
    "    return [tiny_task(x) for x in range(start, end)]"
   ]
  },
  {
   "cell_type": "code",
   "execution_count": null,
   "id": "55a84420-ce3c-4915-8ce3-ca74442f0006",
   "metadata": {},
   "outputs": [],
   "source": [
    "result_ids = []\n",
    "start_time = time.time()\n",
    "\n",
    "[result_ids.append(mega_work.remote(x*1000, (x+1)*1000)) for x in range(100)]\n",
    "# fetch the finihsed results\n",
    "results = ray.get(result_ids)\n",
    "end_time = time.time()\n",
    "\n",
    "print(f\"Parallelizing Ray tasks as batches takes {end_time - start_time:.2f} seconds\")"
   ]
  },
  {
   "cell_type": "markdown",
   "id": "77f66e0d-028b-444e-975e-06ff86be4b2e",
   "metadata": {},
   "source": [
    "A huge difference in execution time!\n",
    "\n",
    "Breaking or restructuring many small tasks into batches or chunks of large Ray remote tasks, as demonstrated above, achieves significant performance gain."
   ]
  },
  {
   "cell_type": "markdown",
   "id": "d973062d-2d9b-44ea-bd68-ce849b387d01",
   "metadata": {},
   "source": [
    "### Pattern: Using ray.wait to limit the number of pending tasks\n",
    "\n",
    "| Name | Argument Type |  Description |\n",
    "| :--- | :---     |  :---------- |\n",
    "| `ray.get()`     | `ObjectRef` or `List[ObjectRefs]`   | Return a value in the object ref or list of values from the object IDs. This is a synchronous (i.e., blocking) operation. |\n",
    "| `ray.wait()`    | `List[ObjectRefs]`  | From a list of object IDs, returns (1) the list of IDs of the objects that are ready, and (2) the list of IDs of the objects that are not ready yet. By default, it returns one ready object ID at a time. However, by specifying `num_returns=<value>` it will return all object IDs whose tasks are finished and there respective values materialized and available in the object store. |\n",
    "\n",
    "\n",
    "As we noted above, an idiomatic way of using `ray.get()` is to delay fetching the object until you need them. Another way is to use it is with `ray.wait()`. Only fetch values that are already available or materialized in the object store. This is a way to [pipeline the execution](https://docs.ray.io/en/latest/ray-core/tips-for-first-time.html#tip-4-pipeline-data-processing), especially when you want to process the results of completed Ray tasks as soon as they are available.\n",
    "\n",
    "|<img src=\"https://technical-training-assets.s3.us-west-2.amazonaws.com/Ray_Core/core-data-pipeline.png\" height=\"40%\" width=\"60%\">|\n",
    "|:--|\n",
    "|Execution timeline in both cases: when using `ray.get()` to wait for all results to become available before processing them, and using `ray.wait()` to start processing the results as soon as they become available.|\n",
    "\n",
    "\n",
    "If we use `ray.get()` on the results of multiple tasks we will have to wait until the last one of these tasks finishes. This can be an issue if tasks take widely different amounts of time.\n",
    "\n",
    "To illustrate this issue, consider the following example where we run four `transform_images()` tasks in parallel, with each task taking a time uniformly distributed between 0 and 4 seconds. Next, assume the results of these tasks are processed by `classify_images()`, which takes 1 sec per result. The expected running time is then (1) the time it takes to execute the slowest of the `transform_images()` tasks, plus (2) 4 seconds which is the time it takes to execute `classify_images()`.\n",
    "\n",
    "Let's look at a simple example."
   ]
  },
  {
   "cell_type": "code",
   "execution_count": null,
   "id": "e89e9961-b804-4b83-a06e-355a8bf699f0",
   "metadata": {},
   "outputs": [],
   "source": [
    "from PIL import Image, ImageFilter"
   ]
  },
  {
   "cell_type": "code",
   "execution_count": null,
   "id": "7434b9a0-480a-473e-9bb7-573713887634",
   "metadata": {},
   "outputs": [],
   "source": [
    "random.seed(42)"
   ]
  },
  {
   "cell_type": "code",
   "execution_count": null,
   "id": "591854db-ef49-47f2-ac6c-7e27ed229187",
   "metadata": {},
   "outputs": [],
   "source": [
    "import time\n",
    "import random\n",
    "import ray\n",
    "\n",
    "@ray.remote\n",
    "def transform_images(x):\n",
    "    imarray = np.random.rand(x, x , 3) * 255\n",
    "    img = Image.fromarray(imarray.astype('uint8')).convert('RGBA')\n",
    "    \n",
    "    # Make the image blur with specified intensify\n",
    "    img = img.filter(ImageFilter.GaussianBlur(radius=20))\n",
    "    \n",
    "    time.sleep(random.uniform(0, 4)) # Replace this with extra work you need to do.\n",
    "    return img\n",
    "\n",
    "def predict(image):\n",
    "    size = image.size[0]\n",
    "    if size == 16 or size == 32:\n",
    "        return 0\n",
    "    elif size == 64 or size == 128:\n",
    "        return 1\n",
    "    elif size == 256:\n",
    "        return 2\n",
    "    else:\n",
    "        return 3\n",
    "\n",
    "def classify_images(images):\n",
    "    preds = []\n",
    "    for image in images:\n",
    "        pred = predict(image)\n",
    "        time.sleep(1)\n",
    "        preds.append(pred)\n",
    "    return preds\n",
    "\n",
    "def classify_images_inc(images):\n",
    "    preds = [predict(img) for img in images]\n",
    "    time.sleep(1)\n",
    "    return preds\n",
    "\n",
    "SIZES = [16, 32, 64, 128, 256, 512]"
   ]
  },
  {
   "cell_type": "markdown",
   "id": "296293e7-ddac-4f65-9236-4864c7152af3",
   "metadata": {},
   "source": [
    "#### Not using ray.wait and no pipelining"
   ]
  },
  {
   "cell_type": "code",
   "execution_count": null,
   "id": "50ee0fce-9dc5-4cfa-94ba-4141831fe2d5",
   "metadata": {},
   "outputs": [],
   "source": [
    "start = time.time()\n",
    "# Transform the images first and then get the images\n",
    "images = ray.get([transform_images.remote(image) for image in SIZES])\n",
    "\n",
    "# After all images are transformed, classify them\n",
    "predictions = classify_images(images)\n",
    "print(f\"Duration without pipelining: {round(time.time() - start, 2)} seconds; predictions: {predictions}\")"
   ]
  },
  {
   "cell_type": "markdown",
   "id": "0620caab-4184-4a2e-8ca2-e1c9cd72e7bc",
   "metadata": {},
   "source": [
    "#### Using ray.wait and pipelining"
   ]
  },
  {
   "cell_type": "code",
   "execution_count": null,
   "id": "4542c25a-df3b-419c-b7d2-c225391dc23c",
   "metadata": {},
   "outputs": [],
   "source": [
    "start = time.time()\n",
    "result_images_refs = [transform_images.remote(image) for image in SIZES] \n",
    "predictions = []\n",
    "\n",
    "# Loop until all tasks are finished\n",
    "while len(result_images_refs):\n",
    "    done_image_refs, result_images_refs = ray.wait(result_images_refs, num_returns=1)\n",
    "    preds = classify_images_inc(ray.get(done_image_refs))\n",
    "    predictions.extend(preds)\n",
    "print(f\"Duration with pipelining: {round(time.time() - start, 2)} seconds; predictions: {predictions}\")"
   ]
  },
  {
   "cell_type": "markdown",
   "id": "06c2203b-70e7-4c83-92bb-d192c29a05d0",
   "metadata": {},
   "source": [
    "**Notice**: You get some incremental difference. However, for compute intensive and many tasks, and over time, this difference will be in order of magnitude.\n",
    "\n",
    "For large number of tasks in flight, use `ray.get()` and `ray.wait()` to implement pipeline execution of processing completed tasks.\n",
    "\n",
    "**TLDR**: Use pipeline execution to process results returned from the finished Ray tasks using `ray.get()` and `ray.wait()`"
   ]
  },
  {
   "cell_type": "markdown",
   "id": "7ec0dc75-21d9-4f10-ad2e-d4b14da8aa27",
   "metadata": {},
   "source": [
    "#### Exercise for Pipelining:\n",
    " * Extend or add more images of sizes: 1024, 2048, ...\n",
    " * Increase the number of returns to 2, 3, or 4 from the `ray.wait`()`\n",
    " * Process the images\n",
    " \n",
    " Is there a difference in processing time between serial and pipelining?"
   ]
  },
  {
   "cell_type": "markdown",
   "id": "d6fd8952-519c-4e71-8281-7eaca52a092c",
   "metadata": {},
   "source": [
    "### Anti-pattern: Passing the same large argument by value repeatedly harms performance\n",
    "\n",
    "When passing a large argument (>100KB) by value to a task, Ray will implicitly store the argument in the object store and the worker process will fetch the argument to the local object store from the caller’s object store before running the task. If we pass the same large argument to multiple tasks, Ray will end up storing multiple copies of the argument in the object store since Ray doesn’t do deduplication.\n",
    "\n",
    "Instead of passing the large argument by value to multiple tasks, we should use `ray.put()` to store the argument to the object store once and get an ObjectRef, then pass the argument reference to tasks. This way, we make sure all tasks use the same copy of the argument, which is faster and uses less object store memory.\n",
    "\n",
    "**TLDR**: Avoid passing the same large argument by value to multiple tasks, use ray.put() and pass by reference instead."
   ]
  },
  {
   "cell_type": "code",
   "execution_count": null,
   "id": "c9fb9d2a-032e-44f5-a0f0-a82755ac5f68",
   "metadata": {},
   "outputs": [],
   "source": [
    "@ray.remote\n",
    "def do_work(a):\n",
    "    # do some work with the large object a\n",
    "    return np.sum(a)"
   ]
  },
  {
   "cell_type": "markdown",
   "id": "17ce457d-7b8d-4467-a661-1e1d52862c5d",
   "metadata": {},
   "source": [
    "Bad Usage"
   ]
  },
  {
   "cell_type": "code",
   "execution_count": null,
   "id": "f744cbad-f58c-4206-9f0a-b63185b74aa8",
   "metadata": {},
   "outputs": [],
   "source": [
    "random.seed(42)\n",
    "\n",
    "start = time.time()\n",
    "a = np.random.rand(5000, 5000)\n",
    "\n",
    "# Sending the big array to each remote task, which will\n",
    "# its copy of the same data into its object store\n",
    "result_ids = [do_work.remote(a) for x in range(10)]\n",
    "\n",
    "results = math.fsum(ray.get(result_ids))\n",
    "print(f\" results = {results:.2f} and duration = {time.time() - start:.3f} sec\")"
   ]
  },
  {
   "cell_type": "markdown",
   "id": "e3cefdff-bb83-4803-8c6d-7f2c7e5c5e9d",
   "metadata": {},
   "source": [
    "**Better approach**: Put the value in the object store and only send the reference"
   ]
  },
  {
   "cell_type": "code",
   "execution_count": null,
   "id": "eab448fa-8da4-4434-8b75-bd80b5db68e7",
   "metadata": {},
   "outputs": [],
   "source": [
    "start = time.time()\n",
    "# Adding the big array into the object store\n",
    "a_id_ref = ray.put(a)\n",
    "\n",
    "# Now send the objectID ref\n",
    "result_ids = [do_work.remote(a_id_ref) for x in range(10)]\n",
    "results = math.fsum(ray.get(result_ids))\n",
    "print(f\" results = {results:.2f} and duration = {time.time() - start:.3f} sec\")"
   ]
  },
  {
   "cell_type": "markdown",
   "id": "80acb193-db73-4675-a0b1-81c2f88b045c",
   "metadata": {},
   "source": [
    "### Excercise \n",
    "\n",
    "1. Try with different array sizes. Does it make a difference in processing time?\n",
    "2. Have a go at this [Tree of Actors](https://docs.ray.io/en/latest/ray-core/patterns/tree-of-actors.html) design pattern we covered in the last lesson."
   ]
  },
  {
   "cell_type": "markdown",
   "id": "e15dc011-fc45-4e08-8464-646b2e8dbea4",
   "metadata": {},
   "source": [
    "### Recap\n",
    "In this short tutorial, we got a short glimpse at design pattern, anti-pattern, and tricks and tips. By no means it is comprehensive, but we touched upon some methods we have seen in the previous lessons. With those methods, we explored additional arguments to the `.remote()` call such as number of return statements.\n",
    "\n",
    "More importantly, we walked through some tips and tricks that many developers new to Ray can easily stumble upon. Although the examples were short and simple, the lessons behind the cautionary tales are important part of the learning process."
   ]
  },
  {
   "cell_type": "markdown",
   "id": "fbba4f2d-ed4a-42f7-b59d-ac7c5f2bca43",
   "metadata": {},
   "source": [
    "### Homework \n",
    "\n",
    "There is a advanced and comprehensive list of all [Ray design patterns and anti-design patterns](https://docs.ray.io/en/latest/ray-core/patterns/index.html#design-patterns-anti-patternsray.shutdown()) you can explore at after the class at home.\n",
    "\n",
    "### Additional Resource on Best Practices\n",
    " * [User Guides for Ray Clusters](https://docs.ray.io/en/latest/cluster/vms/user-guides/index.html)\n",
    " * [Best practices for deploying large clusters](https://docs.ray.io/en/latest/cluster/vms/user-guides/large-cluster-best-practices.html)\n",
    " * [Launching an On-Premise Cluster](https://docs.ray.io/en/latest/cluster/vms/user-guides/launching-clusters/on-premises.html)\n",
    " * [Configuring Autoscaling](https://docs.ray.io/en/latest/cluster/vms/user-guides/configuring-autoscaling.html)"
   ]
  },
  {
   "cell_type": "code",
   "execution_count": null,
   "id": "17090bb2-6f50-4929-9f29-2f96013cc978",
   "metadata": {},
   "outputs": [],
   "source": [
    "ray.shutdown()"
   ]
  }
 ],
 "metadata": {
  "kernelspec": {
   "display_name": "Python 3 (ipykernel)",
   "language": "python",
   "name": "python3"
  },
  "language_info": {
   "codemirror_mode": {
    "name": "ipython",
    "version": 3
   },
   "file_extension": ".py",
   "mimetype": "text/x-python",
   "name": "python",
   "nbconvert_exporter": "python",
   "pygments_lexer": "ipython3",
   "version": "3.9.13"
  }
 },
 "nbformat": 4,
 "nbformat_minor": 5
}
