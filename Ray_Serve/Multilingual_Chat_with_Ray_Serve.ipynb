{
 "cells": [
  {
   "cell_type": "markdown",
   "id": "6db26119-1723-43d4-9853-d791f142f4fd",
   "metadata": {},
   "source": [
    "# Multilingual Chat with Ray Serve\n",
    "\n",
    "*Install dependencies not present on Google Colab*"
   ]
  },
  {
   "cell_type": "code",
   "execution_count": null,
   "id": "12cfb335-539f-4c74-8609-7588997d1faf",
   "metadata": {
    "tags": []
   },
   "outputs": [],
   "source": [
    "is_google_colab = 'google.colab' in str(get_ipython())\n",
    "\n",
    "if is_google_colab:\n",
    "    %pip install 'ray[default,air,serve]' lingua-language-detector 'transformers[torch]==4.27' numpy==1.24.2 sentencepiece"
   ]
  },
  {
   "cell_type": "markdown",
   "id": "08fcf5ec-9d26-4f9b-88d7-8b43d54453c1",
   "metadata": {
    "id": "5bBnopreiz4K"
   },
   "source": [
    "*On Google Colab, we have to restart the runtime after that install since we've updated some dependencies in place*"
   ]
  },
  {
   "cell_type": "code",
   "execution_count": null,
   "id": "53495d98-27f9-44d9-8c2c-cba02ceda618",
   "metadata": {
    "tags": []
   },
   "outputs": [],
   "source": [
    "import os\n",
    "\n",
    "if is_google_colab:\n",
    "    os.kill(os.getpid(), 9)"
   ]
  },
  {
   "cell_type": "code",
   "execution_count": null,
   "id": "4980aa61-246b-4863-9881-a41912c29737",
   "metadata": {
    "id": "4980aa61-246b-4863-9881-a41912c29737",
    "tags": []
   },
   "outputs": [],
   "source": [
    "import ray\n",
    "import requests, json\n",
    "from starlette.requests import Request\n",
    "from typing import Dict\n",
    "\n",
    "from ray import serve"
   ]
  },
  {
   "cell_type": "code",
   "execution_count": null,
   "id": "bfbb23a6-4696-4531-9aa0-5f8fcc476ec1",
   "metadata": {
    "colab": {
     "base_uri": "https://localhost:8080/",
     "height": 101
    },
    "id": "bfbb23a6-4696-4531-9aa0-5f8fcc476ec1",
    "outputId": "ff217c11-2a16-4ca9-9c46-c2d535b88261",
    "tags": []
   },
   "outputs": [],
   "source": [
    "ray.init(num_cpus=8)"
   ]
  },
  {
   "cell_type": "markdown",
   "id": "3ac4ef50-78ed-4a3e-b3d9-d86081e63359",
   "metadata": {},
   "source": [
    "We can observe the performance of our Ray cluster using the Ray Dashboard. Starting Ray with `ray.init(...)` will output a link to the dashboard, which by default is served on port 8265."
   ]
  },
  {
   "cell_type": "code",
   "execution_count": null,
   "id": "fd7ca7cd-3da6-49d3-9428-f8f29464294d",
   "metadata": {},
   "outputs": [],
   "source": [
    "if 'google.colab' in str(get_ipython()):\n",
    "    from google.colab.output import serve_kernel_port_as_iframe, serve_kernel_port_as_window\n",
    "    serve_kernel_port_as_window(8265)"
   ]
  },
  {
   "cell_type": "markdown",
   "id": "b152dd42-24cb-40ab-8de4-4de6ff96463c",
   "metadata": {
    "id": "b152dd42-24cb-40ab-8de4-4de6ff96463c",
    "tags": []
   },
   "source": [
    "### Chatbot using Huggingface LLM"
   ]
  },
  {
   "cell_type": "code",
   "execution_count": null,
   "id": "73497dc6-b78a-4edb-ac4f-96c495d59fd3",
   "metadata": {
    "id": "73497dc6-b78a-4edb-ac4f-96c495d59fd3",
    "tags": []
   },
   "outputs": [],
   "source": [
    "from transformers import AutoTokenizer, AutoModelForSeq2SeqLM"
   ]
  },
  {
   "cell_type": "code",
   "execution_count": null,
   "id": "f648424f-17dd-414b-9d27-39781881f15b",
   "metadata": {
    "colab": {
     "base_uri": "https://localhost:8080/"
    },
    "id": "c77294be-ca64-4f8b-b198-8f16032894df",
    "outputId": "7bbce78c-c094-48a7-d862-0378cd30b92c",
    "tags": []
   },
   "outputs": [],
   "source": [
    "@serve.deployment\n",
    "class Chat:\n",
    "    def __init__(self, model: str):\n",
    "        # configure stateful elements of our service such as loading a model\n",
    "        self._tokenizer = AutoTokenizer.from_pretrained(model)\n",
    "        self._model =  AutoModelForSeq2SeqLM.from_pretrained(model)\n",
    "\n",
    "    async def __call__(self, request: Request) -> Dict:\n",
    "        # path to handle HTTP requests\n",
    "        data = await request.json()\n",
    "        data = json.loads(data)\n",
    "        # after decoding the payload, we delegate to get_response for logic\n",
    "        return {'response': self.get_response(data['user_input'], data['history']) }\n",
    "    \n",
    "    def get_response(self, user_input: str, history: list[str]) -> str:\n",
    "        # this method receives calls directly (from Python) or from __call__ (from HTTP)\n",
    "        history.append(user_input)\n",
    "        # the history is client-side state and will be a list of raw strings;\n",
    "        # for the default config of the model and tokenizer, history should be joined with '</s><s>'\n",
    "        inputs = self._tokenizer('</s><s>'.join(history), return_tensors='pt')\n",
    "        reply_ids = self._model.generate(**inputs, max_new_tokens=500)\n",
    "        response = self._tokenizer.batch_decode(reply_ids, skip_special_tokens=True)[0]\n",
    "        return response"
   ]
  },
  {
   "cell_type": "markdown",
   "id": "9093e4de-0837-4b92-9e58-a04fd3ec6e90",
   "metadata": {},
   "source": [
    "We've defined a service using the `@serve.deployment` decorator.\n",
    "* Deployments can be service endpoints\n",
    "* Or they can be individual components accessed from other services\n",
    "* Each deployment can have its own resource management and autoscaling configuration\n",
    "\n",
    "Here is example of extended configuration -- see https://docs.ray.io/en/latest/serve/scaling-and-resource-allocation.html#scaling-and-resource-allocation for more details\n",
    "\n",
    "```python\n",
    "@serve.deployment(\n",
    "    autoscaling_config={\n",
    "        'min_replicas': 1,\n",
    "        'initial_replicas': 2,\n",
    "        'max_replicas': 5,\n",
    "        'target_num_ongoing_requests_per_replica': 10,\n",
    "    }\n",
    ")\n",
    "```"
   ]
  },
  {
   "cell_type": "code",
   "execution_count": null,
   "id": "979e8ac0-906a-4c37-8bdc-4d5c5c0a0029",
   "metadata": {
    "colab": {
     "base_uri": "https://localhost:8080/"
    },
    "id": "c77294be-ca64-4f8b-b198-8f16032894df",
    "outputId": "7bbce78c-c094-48a7-d862-0378cd30b92c",
    "tags": []
   },
   "outputs": [],
   "source": [
    "chat = Chat.bind(model='facebook/blenderbot-400M-distill')"
   ]
  },
  {
   "cell_type": "markdown",
   "id": "5da93367-7c4d-4ddf-88b9-3a1bbde820ac",
   "metadata": {},
   "source": [
    "We created the object that represents this service. We do that by using the `.bind()` class method, which captures the \"recipe\" for instantiating replicas of our service. The params in `.bind()` -- in this case, the name of the Huggingface model we want to use -- will be provided to our deployment class constructor."
   ]
  },
  {
   "cell_type": "code",
   "execution_count": null,
   "id": "a84d11fc-d54e-48d2-9a97-f20aa23fcd4e",
   "metadata": {
    "colab": {
     "base_uri": "https://localhost:8080/"
    },
    "id": "c77294be-ca64-4f8b-b198-8f16032894df",
    "outputId": "7bbce78c-c094-48a7-d862-0378cd30b92c",
    "tags": []
   },
   "outputs": [],
   "source": [
    "handle = serve.run(chat, name='basic_chat')"
   ]
  },
  {
   "cell_type": "markdown",
   "id": "d6713b7a-1a0f-40d9-bfe2-df0acdac96d6",
   "metadata": {
    "tags": []
   },
   "source": [
    "<img src='https://technical-training-assets.s3.us-west-2.amazonaws.com/Ray_Serve/deployment.png' width=600/>\n",
    "\n",
    "`serve.run(...)` exposes out service endpoint for call. We can run multiple simultaneous applications with their own collections of deployments, resource management, scaling, etc. The `name` parameter in `serve.run(...)` becomes an identifier not only for the application but for each deployment that is launched to support that application.\n",
    "\n",
    "Let's test out the service using Ray's Python API first."
   ]
  },
  {
   "cell_type": "code",
   "execution_count": null,
   "id": "6265cf13-1363-42fb-8d4c-629b71c306af",
   "metadata": {
    "colab": {
     "base_uri": "https://localhost:8080/",
     "height": 109
    },
    "id": "6265cf13-1363-42fb-8d4c-629b71c306af",
    "outputId": "573423af-4b55-4f1c-e72b-29d7dcccf6d5",
    "tags": []
   },
   "outputs": [],
   "source": [
    "message = 'My friends are cool but they eat too many carbs.'\n",
    "history = []\n",
    "response_handle = handle.get_response.remote(message, history)\n",
    "response = ray.get(response_handle)\n",
    "response"
   ]
  },
  {
   "cell_type": "markdown",
   "id": "c8b6b6ff-5030-4182-9bf7-27dd61d180f9",
   "metadata": {},
   "source": [
    "We prepare a message and a chat history list and call our chat service via Python"
   ]
  },
  {
   "cell_type": "code",
   "execution_count": null,
   "id": "34549288-e4a2-4fbb-b41f-e7ea70f51d13",
   "metadata": {
    "colab": {
     "base_uri": "https://localhost:8080/"
    },
    "id": "34549288-e4a2-4fbb-b41f-e7ea70f51d13",
    "outputId": "8c682533-9ebd-4965-dc75-b0661cf1f3d6",
    "tags": []
   },
   "outputs": [],
   "source": [
    "history += [message, response]\n",
    "history"
   ]
  },
  {
   "cell_type": "code",
   "execution_count": null,
   "id": "e1b448ae-3662-4211-bde6-72734f80ad30",
   "metadata": {
    "colab": {
     "base_uri": "https://localhost:8080/",
     "height": 127
    },
    "id": "e1b448ae-3662-4211-bde6-72734f80ad30",
    "outputId": "28f4ea8b-2ce7-4aee-d1df-5546a74a5f9b",
    "tags": []
   },
   "outputs": [],
   "source": [
    "message = \"I'm not sure.\"\n",
    "response_handle = handle.get_response.remote(message, history)\n",
    "response = ray.get(response_handle)\n",
    "response"
   ]
  },
  {
   "cell_type": "code",
   "execution_count": null,
   "id": "fabf2482-0689-4bf9-b088-b2b369184560",
   "metadata": {
    "colab": {
     "base_uri": "https://localhost:8080/"
    },
    "id": "fabf2482-0689-4bf9-b088-b2b369184560",
    "outputId": "23103c62-4b6f-43cb-b515-ef3d5f06767b",
    "tags": []
   },
   "outputs": [],
   "source": [
    "history += [message, response]\n",
    "history"
   ]
  },
  {
   "cell_type": "markdown",
   "id": "aa28fca4-46a1-4367-98ce-cbbbacd8d668",
   "metadata": {},
   "source": [
    "And we'll check that our HTTP endpoint is alive as well."
   ]
  },
  {
   "cell_type": "code",
   "execution_count": null,
   "id": "f7b1c235-95d5-4ddd-9357-4339b81ea758",
   "metadata": {
    "colab": {
     "base_uri": "https://localhost:8080/",
     "height": 53
    },
    "id": "f7b1c235-95d5-4ddd-9357-4339b81ea758",
    "outputId": "0388c217-69cc-4b7e-eeac-a437f39d0613",
    "tags": []
   },
   "outputs": [],
   "source": [
    "message = 'I love carbs myself -- bread is tasty.'\n",
    "\n",
    "json_doc = json.dumps({ 'user_input' : message, 'history' : history })\n",
    "\n",
    "json_doc"
   ]
  },
  {
   "cell_type": "code",
   "execution_count": null,
   "id": "da29de38-1ead-49c1-ba68-f61227fe337f",
   "metadata": {
    "colab": {
     "base_uri": "https://localhost:8080/"
    },
    "id": "da29de38-1ead-49c1-ba68-f61227fe337f",
    "outputId": "d30576d4-80fe-4cf2-b71f-5eee3d62ee70",
    "tags": []
   },
   "outputs": [],
   "source": [
    "requests.post('http://localhost:8000/', json = json_doc).json()"
   ]
  },
  {
   "cell_type": "markdown",
   "id": "6f637329-ab6a-4510-9e0e-e6889aea1943",
   "metadata": {},
   "source": [
    "Since we'll be creating a new application example, we can delete the old one -- that allows Ray to remove the replicas of our Chat deployment."
   ]
  },
  {
   "cell_type": "code",
   "execution_count": null,
   "id": "1d1fb523-12ff-458f-8c56-2a37bd36756a",
   "metadata": {},
   "outputs": [],
   "source": [
    "serve.delete('basic_chat')"
   ]
  },
  {
   "cell_type": "markdown",
   "id": "d96b79c3-5423-4786-a4b6-047be1fcec78",
   "metadata": {},
   "source": [
    "## Goals for Model Serving in Production\n",
    "\n",
    "As we assemble more complex applications, Ray Serve delivers increasingly valuable features\n",
    "* The same platform -- so zero integration -- for preprocessing, training, batch prediction and other parts of the ML workflow\n",
    "* Fine-grained resource allocation and scaling at the level of critical functions and classes\n",
    "    * Instead of or in addition to scaling at the level of containers, like with Kubernetes, or of nodes\n",
    "* Automatic batching\n",
    "* Minimal data movement and data-locality-aware scheduling\n",
    "\n",
    "<img src='https://technical-training-assets.s3.us-west-2.amazonaws.com/Ray_Serve/serve_architecture.png' width=700/>"
   ]
  },
  {
   "cell_type": "markdown",
   "id": "b54a5b65-7b86-4db0-821c-f3f9ce143316",
   "metadata": {
    "id": "b54a5b65-7b86-4db0-821c-f3f9ce143316",
    "tags": []
   },
   "source": [
    "## Composing Services with Ray for Chatbot en Français\n",
    "\n",
    "### Roadmap for Additional Services\n",
    "\n",
    "The underlying chatbot model we’ve used only supports English interaction. But we can use the following recipe to add French language support:\n",
    "\n",
    "1. Implement a translation service between French and English\n",
    "1. Implement a language detection service\n",
    "1. Implement a routing (dispatch) service:\n",
    "    1. If the incoming prompt is French, then\n",
    "        1. Route the inbound prompt through the FR-EN translator\n",
    "        1. Pass the EN prompt to the chat model\n",
    "        1. Pass the EN output from the chat model through the EN-FR translator\n",
    "        1. Return the French response\n",
    "    1. Otherwise (if the prompt is in English), pass it straight to the chatbot as we did earlier and return the (English) response\n",
    "\n",
    "Let’s look using Ray Serve to implement model inference with these composed and conditional-flow elements using Python method calls (https://docs.ray.io/en/latest/serve/key-concepts.html#servehandle-composing-deployments). Later we’ll look at an alternative approach using Ray’s Deployment Graph API.\n",
    "\n",
    "We’ll implement parts 1 and 2 first…\n",
    "\n",
    "### Translation service"
   ]
  },
  {
   "cell_type": "code",
   "execution_count": null,
   "id": "d55d5f93-b22c-4a76-9261-290862c62882",
   "metadata": {
    "colab": {
     "base_uri": "https://localhost:8080/",
     "height": 358,
     "referenced_widgets": [
      "ed182dd854d1439ab6d44e39210d7074",
      "4ed3f579be5d450aacfa0f970b8d81da",
      "5f0dc2de13284933ae2439af1fe88753",
      "3d98bfe346ed40a8bd5d46de450bca24",
      "1737ac3e202a41688c4adb0b498ec58f",
      "3f127b730e024ffa91ab921ac5291c73",
      "bbd6c25a5bef464fa74837811f1e3a39",
      "442b5bbd50f145e9844495dcda8c09d5",
      "13efed5b0c204ce58120470ae37e6af2",
      "5f28f3c322484ff5a88e988790417d28",
      "d5ff21c53b644abbaa8c2a06c38d2d1d",
      "9860b04b1772493e819f80ceb1000aa0",
      "506f934b75c84618a49f92188d1520b3",
      "4de12f5510974cd79848308c361db070",
      "5b28b54f06f7445aaeab92194bc5951f",
      "eb16d41e87a14b18a33ce16aab9c9c8c",
      "ecd2111b9e974b3eaf712610ac19bb9c",
      "cc0c31d2e0f3494ca2d0440cf5d030d5",
      "7635b8cd4b0748e784b264301b94e535",
      "2b2393d742b344f5b1f79424dec2c4ca",
      "5f8fc5621284480bb1ca39ec6ddf7ff9",
      "13a316e0e13c492b8c9a7b7b3ffdad99",
      "9e8c49cfece042298d111c9dcd5d8831",
      "dd2b9a3f127a445995d25db6058fa425",
      "c2a59a1b016e4e4eabe47c41641d3322",
      "71d0e0924bba466f8cabc03b0a050b88",
      "ef16c90488864b088aa2f402cb3dbdf7",
      "ba44f27002c34b248ed4f70e1ac6f74d",
      "ea43a14dd52e45038a3746743ab3faac",
      "40b0e1c0bc2a40b08e4f46ab95fd5806",
      "465b13292f2b40839211874c8c7c0aee",
      "b707f3785b2d407db18f937c53d3cd65",
      "384044f6a71b46c8bcf6495c6797c74c",
      "38b584bc5a984778868f19a690a18529",
      "bd8e3a9d758140ca88d08f95fc3d0e58",
      "36b7159684c24fa18f5b250d57ef370e",
      "6431501c8c424881855cd372d2b37e77",
      "81c37bcc6d684b47841805ed43c0d8aa",
      "a710d60f9cfa405b8de2f9658c65a24f",
      "a448c57bdb41434295c745f66c0639e6",
      "6ae7d8496ac747e8989a8047775ba099",
      "0fa581a4f548419a9d7ed301a89c9712",
      "49cbb21b99d94a37b290943c926b1410",
      "c479d3b81e4e4abcae5351bb1737155d",
      "6a04740303ed4265907db573a01dd5dc",
      "90b52d08441e4366a03ce5d943d4b3c3",
      "12b42905d56947b2949ebfe2b202fe18",
      "c723559e7e9b420bbf4c417625631647",
      "49fe982496a64136a5a858a6191f1254",
      "0bb83c7a35754c46b704c68b95cf13d9",
      "053a38fae8664d7a9f509fd6f9b13b35",
      "771cd557b6ce42a586878d2d05568e89",
      "12b77bb22ca943bb9fd842278b6b135f",
      "1373256b833b402b8c2e28ab825537a5",
      "1970ae7144244e3eb650bc94f7b1c209"
     ]
    },
    "id": "d55d5f93-b22c-4a76-9261-290862c62882",
    "outputId": "ff6a42ad-fe0a-4b65-f289-e610536baa1d",
    "tags": []
   },
   "outputs": [],
   "source": [
    "from transformers import pipeline"
   ]
  },
  {
   "cell_type": "code",
   "execution_count": null,
   "id": "d1b79e65-6a72-4046-a551-dea32116b83d",
   "metadata": {
    "id": "d1b79e65-6a72-4046-a551-dea32116b83d",
    "tags": []
   },
   "outputs": [],
   "source": [
    "@serve.deployment\n",
    "class Translate:\n",
    "    def __init__(self, task: str, model: str):\n",
    "        self._pipeline = pipeline(task=task, model=model)\n",
    "    \n",
    "    def get_response(self, user_input: str) -> str:\n",
    "        outputs = self._pipeline(user_input)\n",
    "        response = outputs[0]['translation_text']\n",
    "        return response\n",
    "        \n",
    "translate_en_fr = Translate.bind(task='translation_en_to_fr', model='t5-small')\n",
    "translate_fr_en = Translate.bind(task='translation_fr_to_en', model='Helsinki-NLP/opus-mt-fr-en')"
   ]
  },
  {
   "cell_type": "markdown",
   "id": "6c01fb59-96bd-4bd1-a422-e9d1980b4310",
   "metadata": {},
   "source": [
    "Notice how we have two different services but they are built on the same reusable code by calling `.bind()` with different initialization parameters.\n",
    "\n",
    "*We don’t need to define new deployments for every service we use.*\n",
    "\n",
    "This time we’re haven't published an application (via `serve.run()`) because these components will be invoked only by our main service deployment."
   ]
  },
  {
   "cell_type": "markdown",
   "id": "1e6f7e12-cfa0-41c2-abd5-4d300b14195e",
   "metadata": {
    "id": "1e6f7e12-cfa0-41c2-abd5-4d300b14195e"
   },
   "source": [
    "### Language detection\n",
    "\n",
    "We can create the language detection service in a similar way. \n",
    "\n",
    "> This service is lighter weight because we’re using https://github.com/pemistahl/lingua-py … which leverages traditional NLP and n-grams for detection instead of a deep learning model. It can handle more traffic than, e.g., the chat model -- and it won't require a GPU. So we can benefit from Ray Serve's fine-grained resource allocation.\n",
    "    \n",
    "Lingua is optimized for strong detection on very short text snippets, like tweets, so it should be useful for our chat exchanges."
   ]
  },
  {
   "cell_type": "code",
   "execution_count": null,
   "id": "8d365afa-f56d-4d11-9b0c-ceb58d206f0e",
   "metadata": {
    "id": "8d365afa-f56d-4d11-9b0c-ceb58d206f0e",
    "tags": []
   },
   "outputs": [],
   "source": [
    "from lingua import Language, LanguageDetectorBuilder"
   ]
  },
  {
   "cell_type": "code",
   "execution_count": null,
   "id": "5f6bd63d-4958-4580-b72a-caeba1a1f578",
   "metadata": {
    "id": "5f6bd63d-4958-4580-b72a-caeba1a1f578",
    "tags": []
   },
   "outputs": [],
   "source": [
    "@serve.deployment\n",
    "class LangDetect:\n",
    "    def __init__(self):\n",
    "        languages = [Language.ENGLISH, Language.FRENCH]\n",
    "        self._detector = LanguageDetectorBuilder.from_languages(*languages).build()\n",
    "    \n",
    "    def get_response(self, user_input: str) -> str:\n",
    "        output = self._detector.detect_language_of(user_input)\n",
    "        if (output == Language.ENGLISH):\n",
    "            return 'en'\n",
    "        else:\n",
    "            return 'fr'\n",
    "        \n",
    "lang_detect = LangDetect.bind()"
   ]
  },
  {
   "cell_type": "markdown",
   "id": "778ede38-d221-4f45-8e2d-71ec0702aae4",
   "metadata": {
    "id": "778ede38-d221-4f45-8e2d-71ec0702aae4"
   },
   "source": [
    "### Combine services\n",
    "\n",
    "Let's bring the whole system together. We'll implement a service which represents our external endpoint for HTTP or Python invocations.\n",
    "* This service will have references to the deployments we've built so far, and will implement some conditional logic to ensure the correct language is used\n",
    "* Note that even if the user is interacting in French, we need to return the English response as well so that client can use that to build the chat history"
   ]
  },
  {
   "cell_type": "code",
   "execution_count": null,
   "id": "22f85caa-133e-4df7-8aab-4e3278ffc54b",
   "metadata": {
    "colab": {
     "base_uri": "https://localhost:8080/"
    },
    "id": "22f85caa-133e-4df7-8aab-4e3278ffc54b",
    "outputId": "2086ccc1-0d59-419f-d47f-d6144980f536",
    "tags": []
   },
   "outputs": [],
   "source": [
    "@serve.deployment\n",
    "class Endpoint:\n",
    "    def __init__(self, chat, lang_detect, translate_en_fr, translate_fr_en):\n",
    "        # assign dependent service handles to instance variables\n",
    "        self._chat = chat\n",
    "        self._lang_detect = lang_detect\n",
    "        self._translate_en_fr = translate_en_fr\n",
    "        self._translate_fr_en = translate_fr_en\n",
    "\n",
    "    async def __call__(self, request: Request) -> Dict:\n",
    "        data = await request.json()\n",
    "        data = json.loads(data)\n",
    "        return {'response': await self.get_response(data['user_input'], data['history']) }\n",
    "    \n",
    "    async def get_response(self, user_input: str, history: list[str]):\n",
    "        lang_obj_ref = await self._lang_detect.get_response.remote(user_input)\n",
    "        \n",
    "        # if we didn't need the literal value of the language yet, we could pass that (future) object reference to other services\n",
    "        # here, though, we need the value in order to decide whether to call the translation services\n",
    "        # we get the Python value by awaiting the object reference\n",
    "        lang = await lang_obj_ref\n",
    "\n",
    "        if (lang == 'fr'):\n",
    "            user_input = await self._translate_fr_en.get_response.remote(user_input)\n",
    "\n",
    "        response = response_en = await self._chat.get_response.remote(user_input, history)\n",
    "        \n",
    "        if (lang == 'fr'):\n",
    "            response = await self._translate_en_fr.get_response.remote(response_en)\n",
    "            user_input = await user_input\n",
    "            \n",
    "        response = await response\n",
    "        response_en = await response_en\n",
    "        \n",
    "        return response  + '|' + user_input + '|' + response_en\n",
    "\n",
    "endpoint = Endpoint.bind(chat, lang_detect, translate_en_fr, translate_fr_en)\n",
    "\n",
    "endpoint_handle = serve.run(endpoint, name = 'multilingual_chat')"
   ]
  },
  {
   "cell_type": "markdown",
   "id": "6433e5c4-687a-4405-a790-4b6544f897e9",
   "metadata": {},
   "source": [
    "We've implemented control flow through our services and used the async/await pattern in several places so that we don't unnecessarily block.\n",
    "\n",
    "Then we construct the service endpoint and start a new application serving that endpoint."
   ]
  },
  {
   "cell_type": "code",
   "execution_count": null,
   "id": "fbe6a39a-1b55-49c6-8a7e-632256588bf3",
   "metadata": {
    "colab": {
     "base_uri": "https://localhost:8080/",
     "height": 127
    },
    "id": "fbe6a39a-1b55-49c6-8a7e-632256588bf3",
    "outputId": "fd81afe6-5f31-4777-ecd5-c4d138ca901e",
    "tags": []
   },
   "outputs": [],
   "source": [
    "message = 'My friends are cool but they eat too many carbs.'\n",
    "history = []\n",
    "response = ray.get(endpoint_handle.get_response.remote(message, history))\n",
    "response.split('|')[0]"
   ]
  },
  {
   "cell_type": "code",
   "execution_count": null,
   "id": "0b852c27-20d3-4cc3-b300-5fd15e0ba124",
   "metadata": {
    "colab": {
     "base_uri": "https://localhost:8080/"
    },
    "id": "0b852c27-20d3-4cc3-b300-5fd15e0ba124",
    "outputId": "386cf1b6-daeb-4a19-d0cd-248131bd9f52",
    "tags": []
   },
   "outputs": [],
   "source": [
    "history += response.split('|')[1:]\n",
    "history"
   ]
  },
  {
   "cell_type": "code",
   "execution_count": null,
   "id": "73855166-c226-40f9-a365-babb36f751b3",
   "metadata": {
    "colab": {
     "base_uri": "https://localhost:8080/",
     "height": 234
    },
    "id": "73855166-c226-40f9-a365-babb36f751b3",
    "outputId": "17498373-04e4-4595-80af-88cb24c568f2",
    "tags": []
   },
   "outputs": [],
   "source": [
    "message = 'Je ne suis pas sûr.'\n",
    "response = ray.get(endpoint_handle.get_response.remote(message, history))\n",
    "response.split('|')[0]"
   ]
  },
  {
   "cell_type": "code",
   "execution_count": null,
   "id": "25952d4a-43fe-49fa-a437-eb91813cde5c",
   "metadata": {
    "colab": {
     "base_uri": "https://localhost:8080/"
    },
    "id": "25952d4a-43fe-49fa-a437-eb91813cde5c",
    "outputId": "29e847c0-4819-46c6-d15c-681bab01e028",
    "tags": []
   },
   "outputs": [],
   "source": [
    "history += response.split('|')[1:]\n",
    "history"
   ]
  },
  {
   "cell_type": "markdown",
   "id": "9d0cd70a-6b6e-4023-a10d-97ef097ef3df",
   "metadata": {
    "tags": []
   },
   "source": [
    "> We haven’t looked under the hood at how all of this works on Ray. The details aren't covered in this session, but there is more information at https://docs.ray.io/en/latest/serve/architecture.html\n",
    "\n",
    "At this point we have a service which can support the many functional and operational properties we expect to need in production, including scalability, separation of concerns, and composability."
   ]
  },
  {
   "cell_type": "code",
   "execution_count": null,
   "id": "29b367ed-e1c6-41aa-ba97-d77161b14c95",
   "metadata": {
    "tags": []
   },
   "outputs": [],
   "source": [
    "serve.delete('multilingual_chat')"
   ]
  },
  {
   "cell_type": "markdown",
   "id": "6eae86f3-34a4-4f59-87ba-df8d9a0d3928",
   "metadata": {
    "id": "6eae86f3-34a4-4f59-87ba-df8d9a0d3928"
   },
   "source": [
    "## Deployment Graph API\n",
    "\n",
    "What is the Deployment Graph API?\n",
    "\n",
    "* The Deployment Graph API lets us separate the flow of calls from the logic inside our services.\n",
    "\n",
    "Why might we want to use the Deployment Graph (DAG) API to separate flow from logic?\n",
    "\n",
    "* It may be valuable to add a layer of indirection – or abstraction – so that we can more easily create and compose reusable services\n",
    "* The DAG API lets us use similar patterns across the Ray platform (e.g., Ray Workflow)\n",
    "    * We can learn one general pattern for graphs and use that intuition in multiple places in our Ray applications\n",
    "* Although we compose one DAG, we retain the key Ray Serve features of granular autoscaling and resource allocation\n",
    "\n",
    "Let’s reproduce our chat service flow using the Deployment Graph API\n",
    "\n",
    "### Getting Started with Deployment Graphs\n",
    "\n",
    "As a first step, to keep things simple, let’s assume for a moment that we are always interacting with the service in French. \n",
    "\n",
    "<img src='https://technical-training-assets.s3.us-west-2.amazonaws.com/Ray_Serve/deployment_graph_simple.png' width=900/>"
   ]
  },
  {
   "cell_type": "code",
   "execution_count": null,
   "id": "3500503d-0831-47ae-88e0-88b8a8a7e2cd",
   "metadata": {
    "id": "3500503d-0831-47ae-88e0-88b8a8a7e2cd",
    "tags": []
   },
   "outputs": [],
   "source": [
    "from ray.serve.dag import InputNode\n",
    "from ray.serve.drivers import DAGDriver"
   ]
  },
  {
   "cell_type": "markdown",
   "id": "4ec4279f-de55-40cf-b608-214223071be6",
   "metadata": {},
   "source": [
    "`InputNode` is a special type of graph node, defined by Ray Serve, which represents values supplied to our service endpoint. \n",
    "\n",
    "We can only have one `InputNode` but we can get access to multiple parameters from that node using a Python context manager."
   ]
  },
  {
   "cell_type": "code",
   "execution_count": null,
   "id": "867cba3f-7d6e-4593-9dac-49f1069c93b0",
   "metadata": {
    "id": "867cba3f-7d6e-4593-9dac-49f1069c93b0",
    "tags": []
   },
   "outputs": [],
   "source": [
    "with InputNode() as inp:\n",
    "    user_input = inp[0]\n",
    "    history = inp[1]"
   ]
  },
  {
   "cell_type": "markdown",
   "id": "d2463417-b8c8-41ee-a259-7708d3952ff8",
   "metadata": {
    "id": "d2463417-b8c8-41ee-a259-7708d3952ff8"
   },
   "source": [
    "Here is a minimal, linear pipeline that allows us to begin a chat in French.\n",
    "\n",
    "We build up the graph step by step, `bind`ing each deployment to its dependencies."
   ]
  },
  {
   "cell_type": "code",
   "execution_count": null,
   "id": "6552ef01-a62b-497f-b578-8fc20edc6000",
   "metadata": {
    "colab": {
     "base_uri": "https://localhost:8080/"
    },
    "id": "6552ef01-a62b-497f-b578-8fc20edc6000",
    "outputId": "ad1eb72e-6c8c-473f-a92f-89d5bbebdeb1",
    "tags": []
   },
   "outputs": [],
   "source": [
    "user_input_en = translate_fr_en.get_response.bind(user_input)    # French->English translator depends on the user input text\n",
    "chat_response = chat.get_response.bind(user_input_en, history)   # the chat deployment requires the English user input and the history\n",
    "output = translate_en_fr.get_response.bind(chat_response)        # English->French translator depends on the English chat output\n",
    "serve_dag = DAGDriver.bind(output)                               # the graph returns the output from the English->French translator\n",
    "\n",
    "handle = serve.run(serve_dag, name='basic_linear')"
   ]
  },
  {
   "cell_type": "markdown",
   "id": "96d38962-f3c0-4d28-9f58-5e8c1187bbea",
   "metadata": {},
   "source": [
    "We start the application by calling `serve.run()` on the DAGDriver, a Ray Serve component which routes HTTP requests through your call graph."
   ]
  },
  {
   "cell_type": "code",
   "execution_count": null,
   "id": "5e740b79-0e42-4883-9b38-ab3976e8f160",
   "metadata": {
    "colab": {
     "base_uri": "https://localhost:8080/",
     "height": 234
    },
    "id": "5e740b79-0e42-4883-9b38-ab3976e8f160",
    "outputId": "28adadf4-9a78-44ae-e235-9f1ddf233a75",
    "tags": []
   },
   "outputs": [],
   "source": [
    "ray.get(handle.predict.remote('Mes amis sont cool mais ils mangent trop de glucides.', []))"
   ]
  },
  {
   "cell_type": "code",
   "execution_count": null,
   "id": "33ed37e6-cd1f-4394-a2c0-ed5ac83eac43",
   "metadata": {},
   "outputs": [],
   "source": [
    "serve.delete('basic_linear')"
   ]
  },
  {
   "cell_type": "markdown",
   "id": "d7505b58-70d8-4f50-963b-919ed251ca2e",
   "metadata": {
    "id": "d7505b58-70d8-4f50-963b-919ed251ca2e"
   },
   "source": [
    "How can we continue the chat?\n",
    "\n",
    "We need to supply English history ... but we only have French responses so far.\n",
    "\n",
    "We can use the pattern of adding a __combine node__ to our graph in order to merge the 3 elements we need to output (English chat message, English chat response, and French chat response).\n",
    "\n",
    "Combining multiple values is a common requirement -- e.g., in collecting values from a model ensemble.\n",
    "\n",
    "<img src='https://technical-training-assets.s3.us-west-2.amazonaws.com/Ray_Serve/ensemble.png' width=900 />"
   ]
  },
  {
   "cell_type": "code",
   "execution_count": null,
   "id": "3888b068-b6ab-4f3f-81c4-86c1dd7958e9",
   "metadata": {
    "id": "3888b068-b6ab-4f3f-81c4-86c1dd7958e9",
    "tags": []
   },
   "outputs": [],
   "source": [
    "@serve.deployment\n",
    "def combine(user_input_en:str, chat_response_en: str, chat_response_fr:str)->str:\n",
    "    return chat_response_fr + '|' + user_input_en + '|' + chat_response_en"
   ]
  },
  {
   "cell_type": "markdown",
   "id": "c531677c-a146-414f-a93c-46051033f9fc",
   "metadata": {},
   "source": [
    "The combine node here implemented here is a very simple deployment: it's built from a single function definition instead of a class."
   ]
  },
  {
   "cell_type": "code",
   "execution_count": null,
   "id": "2d50388e-0edc-45fb-908a-026ef6bed262",
   "metadata": {
    "colab": {
     "base_uri": "https://localhost:8080/"
    },
    "id": "a26afc34-0c4a-49ab-b408-abba019d14a0",
    "outputId": "d5797540-1e37-406c-85b0-fdfb76c9326e",
    "tags": []
   },
   "outputs": [],
   "source": [
    "translate_en_fr = Translate.bind(task='translation_en_to_fr', model='t5-small')\n",
    "translate_fr_en = Translate.bind(task='translation_fr_to_en', model='Helsinki-NLP/opus-mt-fr-en')\n",
    "chat = Chat.bind(model='facebook/blenderbot-400M-distill')"
   ]
  },
  {
   "cell_type": "markdown",
   "id": "47c61b9c-77c5-48b0-ad9b-b94e989c13d9",
   "metadata": {},
   "source": [
    "Event though the definitions of the `Translate` and `Chat` deployments have not changed, we call `.bind()` again to create new DAG nodes since we're composing a new DAG."
   ]
  },
  {
   "cell_type": "code",
   "execution_count": null,
   "id": "51365bb6-2d88-4378-9e9d-8c9988b6d013",
   "metadata": {
    "colab": {
     "base_uri": "https://localhost:8080/"
    },
    "id": "a26afc34-0c4a-49ab-b408-abba019d14a0",
    "outputId": "d5797540-1e37-406c-85b0-fdfb76c9326e",
    "tags": []
   },
   "outputs": [],
   "source": [
    "with InputNode() as inp:\n",
    "    user_input = inp[0]\n",
    "    history = inp[1]\n",
    "    user_input_en = translate_fr_en.get_response.bind(user_input)\n",
    "    chat_response_en = chat.get_response.bind(user_input_en, history)\n",
    "    chat_response_fr = translate_en_fr.get_response.bind(chat_response_en)\n",
    "\n",
    "# We route the user input, the English chat response, and the French chat response into the combine node\n",
    "output = combine.bind(user_input_en, chat_response_en, chat_response_fr)\n",
    "\n",
    "# and we serve the output of the combine node\n",
    "serve_dag = DAGDriver.bind(output)\n",
    "\n",
    "handle = serve.run(serve_dag, name='enhanced_linear')"
   ]
  },
  {
   "cell_type": "code",
   "execution_count": null,
   "id": "142fcb77-1366-42a8-bd8f-30a8a960db98",
   "metadata": {
    "colab": {
     "base_uri": "https://localhost:8080/",
     "height": 359
    },
    "id": "142fcb77-1366-42a8-bd8f-30a8a960db98",
    "outputId": "cc62a275-6b55-42da-bf68-a62e04b7c784",
    "tags": []
   },
   "outputs": [],
   "source": [
    "ray.get(handle.predict.remote('Mes amis sont cool mais ils mangent trop de glucides.', []))"
   ]
  },
  {
   "cell_type": "code",
   "execution_count": null,
   "id": "661002b3-e252-4213-b40c-b7e462da78a5",
   "metadata": {},
   "outputs": [],
   "source": [
    "serve.delete('enhanced_linear')"
   ]
  },
  {
   "cell_type": "markdown",
   "id": "6453f86c-ac0b-474e-a109-e84a0fa317dd",
   "metadata": {
    "id": "4946be16-bd7a-49a9-ae41-6b6a29643ed2"
   },
   "source": [
    "Using this pattern, we are getting everything back that we would need to offer a conversation service with the chatbot ... but only in French!\n",
    "\n",
    "### Adding Conditional Flow\n",
    "\n",
    "Our real chatbot is a bit more complex. It has a conditional flow where we invoke the translation service only when the user is *not* interacting in English.\n",
    "\n",
    "We can add the remaining elements of our service and the basic API changes will be fairly minimal. But there is one aspect that requires us to do a little bit of thinking and employ a new pattern.\n",
    "\n",
    "#### Static Graphs and Conditional Control Flow\n",
    "\n",
    "The graph we define with the DAG API is static – it’s created ahead of time. \n",
    "\n",
    "In the first DAG demo, we were always invoking the same sequence of services, so the static character of the graph might not have been obvious… but now we’re focusing on it so you can see where things might get a bit more complicated.\n",
    "\n",
    "To implement branching flow control with the DAG API, we’ll use a special pattern so that the same graph always runs … but certain nodes (in our case, translator nodes) behave differently based on data they receive.\n",
    "\n",
    "<img src='https://technical-training-assets.s3.us-west-2.amazonaws.com/Ray_Serve/deployment_graph_complex.png' width=900 />"
   ]
  },
  {
   "cell_type": "code",
   "execution_count": null,
   "id": "0e793082-96ce-447c-9af7-1be949be9b21",
   "metadata": {
    "id": "0e793082-96ce-447c-9af7-1be949be9b21",
    "tags": []
   },
   "outputs": [],
   "source": [
    "@serve.deployment\n",
    "class Translate:\n",
    "    def __init__(self, task: str, model: str):\n",
    "        self._pipeline = pipeline(task=task, model=model)\n",
    "    \n",
    "    def get_response(self, user_input:str, user_lang:str) -> str:\n",
    "        if (user_lang == 'en'):\n",
    "            return user_input # no-op\n",
    "        else:\n",
    "            outputs = self._pipeline(user_input)\n",
    "            response = outputs[0]['translation_text']\n",
    "            return response\n",
    "        \n",
    "translate_en_fr = Translate.bind(task='translation_en_to_fr', model='t5-small')\n",
    "translate_fr_en = Translate.bind(task='translation_fr_to_en', model='Helsinki-NLP/opus-mt-fr-en')"
   ]
  },
  {
   "cell_type": "markdown",
   "id": "9010e800-b02b-4654-9457-0a6c9f872155",
   "metadata": {},
   "source": [
    "The if-else control flow inside `get_response()` calls the transation logic only when the user is *not* using English."
   ]
  },
  {
   "cell_type": "code",
   "execution_count": null,
   "id": "f0105c9c-58e2-48c7-a4ff-e5d1a26632e6",
   "metadata": {
    "colab": {
     "base_uri": "https://localhost:8080/"
    },
    "id": "f0105c9c-58e2-48c7-a4ff-e5d1a26632e6",
    "outputId": "2aeb1446-0e3e-463f-95e5-24fa9336f9cc",
    "tags": []
   },
   "outputs": [],
   "source": [
    "lang_detect = LangDetect.bind()\n",
    "chat = Chat.bind(model='facebook/blenderbot-400M-distill')\n",
    "\n",
    "with InputNode() as inp:\n",
    "    user_input = inp[0]\n",
    "    history = inp[1]\n",
    "    user_lang = lang_detect.get_response.bind(user_input)\n",
    "    user_input_en = translate_fr_en.get_response.bind(user_input, user_lang)\n",
    "    chat_response_en = chat.get_response.bind(user_input_en, history)\n",
    "    chat_response_fr = translate_en_fr.get_response.bind(chat_response_en, user_lang)\n",
    "    output = combine.bind(user_input_en, chat_response_en, chat_response_fr)\n",
    "    serve_dag = DAGDriver.bind(output)\n",
    "\n",
    "handle = serve.run(serve_dag, name='full_chatbot')"
   ]
  },
  {
   "cell_type": "markdown",
   "id": "50ec688c-b9ce-427f-90ca-71aa3a8eb53f",
   "metadata": {},
   "source": [
    "In this code, the translation services are always part of the graph and participate in the data flow. So the graph is static, even though the translation behavior is dynamic."
   ]
  },
  {
   "cell_type": "code",
   "execution_count": null,
   "id": "5bf055b3-2c97-435d-ab36-d540b3fef963",
   "metadata": {
    "colab": {
     "base_uri": "https://localhost:8080/",
     "height": 341
    },
    "id": "5bf055b3-2c97-435d-ab36-d540b3fef963",
    "outputId": "1a7da7c7-fb2b-4bde-cd58-8142c430b83b",
    "tags": []
   },
   "outputs": [],
   "source": [
    "message = 'Mes amis sont cool mais ils mangent trop de glucides.'\n",
    "history = []\n",
    "\n",
    "response = ray.get(handle.predict.remote(message, history))\n",
    "\n",
    "response.split('|')[0]"
   ]
  },
  {
   "cell_type": "code",
   "execution_count": null,
   "id": "aaa93387-0971-4dba-87c1-482e3e9baf4d",
   "metadata": {
    "tags": []
   },
   "outputs": [],
   "source": [
    "history += response.split('|')[1:]\n",
    "history"
   ]
  },
  {
   "cell_type": "code",
   "execution_count": null,
   "id": "d7cb4815-093b-49bd-b6d4-98fdb1f9c038",
   "metadata": {
    "colab": {
     "base_uri": "https://localhost:8080/",
     "height": 285
    },
    "id": "d7cb4815-093b-49bd-b6d4-98fdb1f9c038",
    "outputId": "ae2a3adc-dcc0-4613-bcbe-3945a415cfee",
    "tags": []
   },
   "outputs": [],
   "source": [
    "ray.get(handle.predict.remote('Truly bread is delightful', history))"
   ]
  },
  {
   "cell_type": "code",
   "execution_count": null,
   "id": "1e969565-ef13-44a4-8e42-f090f21d1cfa",
   "metadata": {
    "tags": []
   },
   "outputs": [],
   "source": [
    "serve.delete('full_chatbot')"
   ]
  },
  {
   "cell_type": "markdown",
   "id": "3d0d1933-dd99-49bd-ba2e-80e375522c5e",
   "metadata": {},
   "source": [
    "## Ray Serve: Summary\n",
    "\n",
    "__Ray Serve is a microservices framework for serving ML – the model serving component of Ray.__\n",
    "\n",
    "Key features include\n",
    "* High-performance operation at large scale with heterogeneous resources\n",
    "* Fine-grained resource allocation and scheduling\n",
    "* Autoscaling\n",
    "* Simple interaction with preprocessing, training, tuning, and other parts of the ML workflow on Ray\n",
    "* Out-of-the box integration with third-party tools like PyTorch, Huggingface, Gradio, Weights and Biases, Delta Lake, and more\n",
    "* Straightforward composition and orchestration of services in a declarative or imperative style, all using Python\n",
    "\n"
   ]
  },
  {
   "cell_type": "markdown",
   "id": "c7d5c6aa-e708-4316-b885-c5e0b48f7f26",
   "metadata": {},
   "source": [
    "## Connect with the Ray community\n",
    "\n",
    "You can learn and get more involved with the Ray community of developers and researchers:\n",
    "\n",
    "* [**Ray documentation**](https://docs.ray.io/en/latest)\n",
    "\n",
    "* [**Official Ray site**](https://www.ray.io/)  \n",
    "Browse the ecosystem and use this site as a hub to get the information that you need to get going and building with Ray.\n",
    "\n",
    "* [**Join the community on Slack**](https://forms.gle/9TSdDYUgxYs8SA9e8)  \n",
    "Find friends to discuss your new learnings in our Slack space.\n",
    "\n",
    "* [**Use the discussion board**](https://discuss.ray.io/)  \n",
    "Ask questions, follow topics, and view announcements on this community forum.\n",
    "\n",
    "* [**Join a meetup group**](https://www.meetup.com/Bay-Area-Ray-Meetup/)  \n",
    "Tune in on meet-ups to listen to compelling talks, get to know other users, and meet the team behind Ray.\n",
    "\n",
    "* [**Open an issue**](https://github.com/ray-project/ray/issues/new/choose)  \n",
    "Ray is constantly evolving to improve developer experience. Submit feature requests, bug-reports, and get help via GitHub issues.\n",
    "\n",
    "* [**Become a Ray contributor**](https://docs.ray.io/en/latest/ray-contribute/getting-involved.html)  \n",
    "We welcome community contributions to improve our documentation and Ray framework."
   ]
  },
  {
   "cell_type": "code",
   "execution_count": null,
   "id": "2d070e23-ab64-4324-bafd-08039e559cae",
   "metadata": {},
   "outputs": [],
   "source": []
  }
 ],
 "metadata": {
  "colab": {
   "provenance": []
  },
  "kernelspec": {
   "display_name": "Python 3 (ipykernel)",
   "language": "python",
   "name": "python3"
  },
  "language_info": {
   "codemirror_mode": {
    "name": "ipython",
    "version": 3
   },
   "file_extension": ".py",
   "mimetype": "text/x-python",
   "name": "python",
   "nbconvert_exporter": "python",
   "pygments_lexer": "ipython3",
   "version": "3.9.16"
  },
  "widgets": {
   "application/vnd.jupyter.widget-state+json": {
    "053a38fae8664d7a9f509fd6f9b13b35": {
     "model_module": "@jupyter-widgets/controls",
     "model_module_version": "1.5.0",
     "model_name": "DescriptionStyleModel",
     "state": {
      "_model_module": "@jupyter-widgets/controls",
      "_model_module_version": "1.5.0",
      "_model_name": "DescriptionStyleModel",
      "_view_count": null,
      "_view_module": "@jupyter-widgets/base",
      "_view_module_version": "1.2.0",
      "_view_name": "StyleView",
      "description_width": ""
     }
    },
    "0bb83c7a35754c46b704c68b95cf13d9": {
     "model_module": "@jupyter-widgets/base",
     "model_module_version": "1.2.0",
     "model_name": "LayoutModel",
     "state": {
      "_model_module": "@jupyter-widgets/base",
      "_model_module_version": "1.2.0",
      "_model_name": "LayoutModel",
      "_view_count": null,
      "_view_module": "@jupyter-widgets/base",
      "_view_module_version": "1.2.0",
      "_view_name": "LayoutView",
      "align_content": null,
      "align_items": null,
      "align_self": null,
      "border": null,
      "bottom": null,
      "display": null,
      "flex": null,
      "flex_flow": null,
      "grid_area": null,
      "grid_auto_columns": null,
      "grid_auto_flow": null,
      "grid_auto_rows": null,
      "grid_column": null,
      "grid_gap": null,
      "grid_row": null,
      "grid_template_areas": null,
      "grid_template_columns": null,
      "grid_template_rows": null,
      "height": null,
      "justify_content": null,
      "justify_items": null,
      "left": null,
      "margin": null,
      "max_height": null,
      "max_width": null,
      "min_height": null,
      "min_width": null,
      "object_fit": null,
      "object_position": null,
      "order": null,
      "overflow": null,
      "overflow_x": null,
      "overflow_y": null,
      "padding": null,
      "right": null,
      "top": null,
      "visibility": null,
      "width": null
     }
    },
    "0fa581a4f548419a9d7ed301a89c9712": {
     "model_module": "@jupyter-widgets/controls",
     "model_module_version": "1.5.0",
     "model_name": "ProgressStyleModel",
     "state": {
      "_model_module": "@jupyter-widgets/controls",
      "_model_module_version": "1.5.0",
      "_model_name": "ProgressStyleModel",
      "_view_count": null,
      "_view_module": "@jupyter-widgets/base",
      "_view_module_version": "1.2.0",
      "_view_name": "StyleView",
      "bar_color": null,
      "description_width": ""
     }
    },
    "12b42905d56947b2949ebfe2b202fe18": {
     "model_module": "@jupyter-widgets/controls",
     "model_module_version": "1.5.0",
     "model_name": "FloatProgressModel",
     "state": {
      "_dom_classes": [],
      "_model_module": "@jupyter-widgets/controls",
      "_model_module_version": "1.5.0",
      "_model_name": "FloatProgressModel",
      "_view_count": null,
      "_view_module": "@jupyter-widgets/controls",
      "_view_module_version": "1.5.0",
      "_view_name": "ProgressView",
      "bar_style": "success",
      "description": "",
      "description_tooltip": null,
      "layout": "IPY_MODEL_771cd557b6ce42a586878d2d05568e89",
      "max": 1389353,
      "min": 0,
      "orientation": "horizontal",
      "style": "IPY_MODEL_12b77bb22ca943bb9fd842278b6b135f",
      "value": 1389353
     }
    },
    "12b77bb22ca943bb9fd842278b6b135f": {
     "model_module": "@jupyter-widgets/controls",
     "model_module_version": "1.5.0",
     "model_name": "ProgressStyleModel",
     "state": {
      "_model_module": "@jupyter-widgets/controls",
      "_model_module_version": "1.5.0",
      "_model_name": "ProgressStyleModel",
      "_view_count": null,
      "_view_module": "@jupyter-widgets/base",
      "_view_module_version": "1.2.0",
      "_view_name": "StyleView",
      "bar_color": null,
      "description_width": ""
     }
    },
    "1373256b833b402b8c2e28ab825537a5": {
     "model_module": "@jupyter-widgets/base",
     "model_module_version": "1.2.0",
     "model_name": "LayoutModel",
     "state": {
      "_model_module": "@jupyter-widgets/base",
      "_model_module_version": "1.2.0",
      "_model_name": "LayoutModel",
      "_view_count": null,
      "_view_module": "@jupyter-widgets/base",
      "_view_module_version": "1.2.0",
      "_view_name": "LayoutView",
      "align_content": null,
      "align_items": null,
      "align_self": null,
      "border": null,
      "bottom": null,
      "display": null,
      "flex": null,
      "flex_flow": null,
      "grid_area": null,
      "grid_auto_columns": null,
      "grid_auto_flow": null,
      "grid_auto_rows": null,
      "grid_column": null,
      "grid_gap": null,
      "grid_row": null,
      "grid_template_areas": null,
      "grid_template_columns": null,
      "grid_template_rows": null,
      "height": null,
      "justify_content": null,
      "justify_items": null,
      "left": null,
      "margin": null,
      "max_height": null,
      "max_width": null,
      "min_height": null,
      "min_width": null,
      "object_fit": null,
      "object_position": null,
      "order": null,
      "overflow": null,
      "overflow_x": null,
      "overflow_y": null,
      "padding": null,
      "right": null,
      "top": null,
      "visibility": null,
      "width": null
     }
    },
    "13a316e0e13c492b8c9a7b7b3ffdad99": {
     "model_module": "@jupyter-widgets/controls",
     "model_module_version": "1.5.0",
     "model_name": "DescriptionStyleModel",
     "state": {
      "_model_module": "@jupyter-widgets/controls",
      "_model_module_version": "1.5.0",
      "_model_name": "DescriptionStyleModel",
      "_view_count": null,
      "_view_module": "@jupyter-widgets/base",
      "_view_module_version": "1.2.0",
      "_view_name": "StyleView",
      "description_width": ""
     }
    },
    "13efed5b0c204ce58120470ae37e6af2": {
     "model_module": "@jupyter-widgets/controls",
     "model_module_version": "1.5.0",
     "model_name": "ProgressStyleModel",
     "state": {
      "_model_module": "@jupyter-widgets/controls",
      "_model_module_version": "1.5.0",
      "_model_name": "ProgressStyleModel",
      "_view_count": null,
      "_view_module": "@jupyter-widgets/base",
      "_view_module_version": "1.2.0",
      "_view_name": "StyleView",
      "bar_color": null,
      "description_width": ""
     }
    },
    "1737ac3e202a41688c4adb0b498ec58f": {
     "model_module": "@jupyter-widgets/base",
     "model_module_version": "1.2.0",
     "model_name": "LayoutModel",
     "state": {
      "_model_module": "@jupyter-widgets/base",
      "_model_module_version": "1.2.0",
      "_model_name": "LayoutModel",
      "_view_count": null,
      "_view_module": "@jupyter-widgets/base",
      "_view_module_version": "1.2.0",
      "_view_name": "LayoutView",
      "align_content": null,
      "align_items": null,
      "align_self": null,
      "border": null,
      "bottom": null,
      "display": null,
      "flex": null,
      "flex_flow": null,
      "grid_area": null,
      "grid_auto_columns": null,
      "grid_auto_flow": null,
      "grid_auto_rows": null,
      "grid_column": null,
      "grid_gap": null,
      "grid_row": null,
      "grid_template_areas": null,
      "grid_template_columns": null,
      "grid_template_rows": null,
      "height": null,
      "justify_content": null,
      "justify_items": null,
      "left": null,
      "margin": null,
      "max_height": null,
      "max_width": null,
      "min_height": null,
      "min_width": null,
      "object_fit": null,
      "object_position": null,
      "order": null,
      "overflow": null,
      "overflow_x": null,
      "overflow_y": null,
      "padding": null,
      "right": null,
      "top": null,
      "visibility": null,
      "width": null
     }
    },
    "1970ae7144244e3eb650bc94f7b1c209": {
     "model_module": "@jupyter-widgets/controls",
     "model_module_version": "1.5.0",
     "model_name": "DescriptionStyleModel",
     "state": {
      "_model_module": "@jupyter-widgets/controls",
      "_model_module_version": "1.5.0",
      "_model_name": "DescriptionStyleModel",
      "_view_count": null,
      "_view_module": "@jupyter-widgets/base",
      "_view_module_version": "1.2.0",
      "_view_name": "StyleView",
      "description_width": ""
     }
    },
    "2b2393d742b344f5b1f79424dec2c4ca": {
     "model_module": "@jupyter-widgets/controls",
     "model_module_version": "1.5.0",
     "model_name": "ProgressStyleModel",
     "state": {
      "_model_module": "@jupyter-widgets/controls",
      "_model_module_version": "1.5.0",
      "_model_name": "ProgressStyleModel",
      "_view_count": null,
      "_view_module": "@jupyter-widgets/base",
      "_view_module_version": "1.2.0",
      "_view_name": "StyleView",
      "bar_color": null,
      "description_width": ""
     }
    },
    "36b7159684c24fa18f5b250d57ef370e": {
     "model_module": "@jupyter-widgets/controls",
     "model_module_version": "1.5.0",
     "model_name": "FloatProgressModel",
     "state": {
      "_dom_classes": [],
      "_model_module": "@jupyter-widgets/controls",
      "_model_module_version": "1.5.0",
      "_model_name": "FloatProgressModel",
      "_view_count": null,
      "_view_module": "@jupyter-widgets/controls",
      "_view_module_version": "1.5.0",
      "_view_name": "ProgressView",
      "bar_style": "success",
      "description": "",
      "description_tooltip": null,
      "layout": "IPY_MODEL_6ae7d8496ac747e8989a8047775ba099",
      "max": 791656,
      "min": 0,
      "orientation": "horizontal",
      "style": "IPY_MODEL_0fa581a4f548419a9d7ed301a89c9712",
      "value": 791656
     }
    },
    "384044f6a71b46c8bcf6495c6797c74c": {
     "model_module": "@jupyter-widgets/controls",
     "model_module_version": "1.5.0",
     "model_name": "DescriptionStyleModel",
     "state": {
      "_model_module": "@jupyter-widgets/controls",
      "_model_module_version": "1.5.0",
      "_model_name": "DescriptionStyleModel",
      "_view_count": null,
      "_view_module": "@jupyter-widgets/base",
      "_view_module_version": "1.2.0",
      "_view_name": "StyleView",
      "description_width": ""
     }
    },
    "38b584bc5a984778868f19a690a18529": {
     "model_module": "@jupyter-widgets/controls",
     "model_module_version": "1.5.0",
     "model_name": "HBoxModel",
     "state": {
      "_dom_classes": [],
      "_model_module": "@jupyter-widgets/controls",
      "_model_module_version": "1.5.0",
      "_model_name": "HBoxModel",
      "_view_count": null,
      "_view_module": "@jupyter-widgets/controls",
      "_view_module_version": "1.5.0",
      "_view_name": "HBoxView",
      "box_style": "",
      "children": [
       "IPY_MODEL_bd8e3a9d758140ca88d08f95fc3d0e58",
       "IPY_MODEL_36b7159684c24fa18f5b250d57ef370e",
       "IPY_MODEL_6431501c8c424881855cd372d2b37e77"
      ],
      "layout": "IPY_MODEL_81c37bcc6d684b47841805ed43c0d8aa"
     }
    },
    "3d98bfe346ed40a8bd5d46de450bca24": {
     "model_module": "@jupyter-widgets/controls",
     "model_module_version": "1.5.0",
     "model_name": "HTMLModel",
     "state": {
      "_dom_classes": [],
      "_model_module": "@jupyter-widgets/controls",
      "_model_module_version": "1.5.0",
      "_model_name": "HTMLModel",
      "_view_count": null,
      "_view_module": "@jupyter-widgets/controls",
      "_view_module_version": "1.5.0",
      "_view_name": "HTMLView",
      "description": "",
      "description_tooltip": null,
      "layout": "IPY_MODEL_5f28f3c322484ff5a88e988790417d28",
      "placeholder": "​",
      "style": "IPY_MODEL_d5ff21c53b644abbaa8c2a06c38d2d1d",
      "value": " 1.21k/1.21k [00:00&lt;00:00, 20.4kB/s]"
     }
    },
    "3f127b730e024ffa91ab921ac5291c73": {
     "model_module": "@jupyter-widgets/base",
     "model_module_version": "1.2.0",
     "model_name": "LayoutModel",
     "state": {
      "_model_module": "@jupyter-widgets/base",
      "_model_module_version": "1.2.0",
      "_model_name": "LayoutModel",
      "_view_count": null,
      "_view_module": "@jupyter-widgets/base",
      "_view_module_version": "1.2.0",
      "_view_name": "LayoutView",
      "align_content": null,
      "align_items": null,
      "align_self": null,
      "border": null,
      "bottom": null,
      "display": null,
      "flex": null,
      "flex_flow": null,
      "grid_area": null,
      "grid_auto_columns": null,
      "grid_auto_flow": null,
      "grid_auto_rows": null,
      "grid_column": null,
      "grid_gap": null,
      "grid_row": null,
      "grid_template_areas": null,
      "grid_template_columns": null,
      "grid_template_rows": null,
      "height": null,
      "justify_content": null,
      "justify_items": null,
      "left": null,
      "margin": null,
      "max_height": null,
      "max_width": null,
      "min_height": null,
      "min_width": null,
      "object_fit": null,
      "object_position": null,
      "order": null,
      "overflow": null,
      "overflow_x": null,
      "overflow_y": null,
      "padding": null,
      "right": null,
      "top": null,
      "visibility": null,
      "width": null
     }
    },
    "40b0e1c0bc2a40b08e4f46ab95fd5806": {
     "model_module": "@jupyter-widgets/base",
     "model_module_version": "1.2.0",
     "model_name": "LayoutModel",
     "state": {
      "_model_module": "@jupyter-widgets/base",
      "_model_module_version": "1.2.0",
      "_model_name": "LayoutModel",
      "_view_count": null,
      "_view_module": "@jupyter-widgets/base",
      "_view_module_version": "1.2.0",
      "_view_name": "LayoutView",
      "align_content": null,
      "align_items": null,
      "align_self": null,
      "border": null,
      "bottom": null,
      "display": null,
      "flex": null,
      "flex_flow": null,
      "grid_area": null,
      "grid_auto_columns": null,
      "grid_auto_flow": null,
      "grid_auto_rows": null,
      "grid_column": null,
      "grid_gap": null,
      "grid_row": null,
      "grid_template_areas": null,
      "grid_template_columns": null,
      "grid_template_rows": null,
      "height": null,
      "justify_content": null,
      "justify_items": null,
      "left": null,
      "margin": null,
      "max_height": null,
      "max_width": null,
      "min_height": null,
      "min_width": null,
      "object_fit": null,
      "object_position": null,
      "order": null,
      "overflow": null,
      "overflow_x": null,
      "overflow_y": null,
      "padding": null,
      "right": null,
      "top": null,
      "visibility": null,
      "width": null
     }
    },
    "442b5bbd50f145e9844495dcda8c09d5": {
     "model_module": "@jupyter-widgets/base",
     "model_module_version": "1.2.0",
     "model_name": "LayoutModel",
     "state": {
      "_model_module": "@jupyter-widgets/base",
      "_model_module_version": "1.2.0",
      "_model_name": "LayoutModel",
      "_view_count": null,
      "_view_module": "@jupyter-widgets/base",
      "_view_module_version": "1.2.0",
      "_view_name": "LayoutView",
      "align_content": null,
      "align_items": null,
      "align_self": null,
      "border": null,
      "bottom": null,
      "display": null,
      "flex": null,
      "flex_flow": null,
      "grid_area": null,
      "grid_auto_columns": null,
      "grid_auto_flow": null,
      "grid_auto_rows": null,
      "grid_column": null,
      "grid_gap": null,
      "grid_row": null,
      "grid_template_areas": null,
      "grid_template_columns": null,
      "grid_template_rows": null,
      "height": null,
      "justify_content": null,
      "justify_items": null,
      "left": null,
      "margin": null,
      "max_height": null,
      "max_width": null,
      "min_height": null,
      "min_width": null,
      "object_fit": null,
      "object_position": null,
      "order": null,
      "overflow": null,
      "overflow_x": null,
      "overflow_y": null,
      "padding": null,
      "right": null,
      "top": null,
      "visibility": null,
      "width": null
     }
    },
    "465b13292f2b40839211874c8c7c0aee": {
     "model_module": "@jupyter-widgets/controls",
     "model_module_version": "1.5.0",
     "model_name": "ProgressStyleModel",
     "state": {
      "_model_module": "@jupyter-widgets/controls",
      "_model_module_version": "1.5.0",
      "_model_name": "ProgressStyleModel",
      "_view_count": null,
      "_view_module": "@jupyter-widgets/base",
      "_view_module_version": "1.2.0",
      "_view_name": "StyleView",
      "bar_color": null,
      "description_width": ""
     }
    },
    "49cbb21b99d94a37b290943c926b1410": {
     "model_module": "@jupyter-widgets/base",
     "model_module_version": "1.2.0",
     "model_name": "LayoutModel",
     "state": {
      "_model_module": "@jupyter-widgets/base",
      "_model_module_version": "1.2.0",
      "_model_name": "LayoutModel",
      "_view_count": null,
      "_view_module": "@jupyter-widgets/base",
      "_view_module_version": "1.2.0",
      "_view_name": "LayoutView",
      "align_content": null,
      "align_items": null,
      "align_self": null,
      "border": null,
      "bottom": null,
      "display": null,
      "flex": null,
      "flex_flow": null,
      "grid_area": null,
      "grid_auto_columns": null,
      "grid_auto_flow": null,
      "grid_auto_rows": null,
      "grid_column": null,
      "grid_gap": null,
      "grid_row": null,
      "grid_template_areas": null,
      "grid_template_columns": null,
      "grid_template_rows": null,
      "height": null,
      "justify_content": null,
      "justify_items": null,
      "left": null,
      "margin": null,
      "max_height": null,
      "max_width": null,
      "min_height": null,
      "min_width": null,
      "object_fit": null,
      "object_position": null,
      "order": null,
      "overflow": null,
      "overflow_x": null,
      "overflow_y": null,
      "padding": null,
      "right": null,
      "top": null,
      "visibility": null,
      "width": null
     }
    },
    "49fe982496a64136a5a858a6191f1254": {
     "model_module": "@jupyter-widgets/base",
     "model_module_version": "1.2.0",
     "model_name": "LayoutModel",
     "state": {
      "_model_module": "@jupyter-widgets/base",
      "_model_module_version": "1.2.0",
      "_model_name": "LayoutModel",
      "_view_count": null,
      "_view_module": "@jupyter-widgets/base",
      "_view_module_version": "1.2.0",
      "_view_name": "LayoutView",
      "align_content": null,
      "align_items": null,
      "align_self": null,
      "border": null,
      "bottom": null,
      "display": null,
      "flex": null,
      "flex_flow": null,
      "grid_area": null,
      "grid_auto_columns": null,
      "grid_auto_flow": null,
      "grid_auto_rows": null,
      "grid_column": null,
      "grid_gap": null,
      "grid_row": null,
      "grid_template_areas": null,
      "grid_template_columns": null,
      "grid_template_rows": null,
      "height": null,
      "justify_content": null,
      "justify_items": null,
      "left": null,
      "margin": null,
      "max_height": null,
      "max_width": null,
      "min_height": null,
      "min_width": null,
      "object_fit": null,
      "object_position": null,
      "order": null,
      "overflow": null,
      "overflow_x": null,
      "overflow_y": null,
      "padding": null,
      "right": null,
      "top": null,
      "visibility": null,
      "width": null
     }
    },
    "4de12f5510974cd79848308c361db070": {
     "model_module": "@jupyter-widgets/controls",
     "model_module_version": "1.5.0",
     "model_name": "FloatProgressModel",
     "state": {
      "_dom_classes": [],
      "_model_module": "@jupyter-widgets/controls",
      "_model_module_version": "1.5.0",
      "_model_name": "FloatProgressModel",
      "_view_count": null,
      "_view_module": "@jupyter-widgets/controls",
      "_view_module_version": "1.5.0",
      "_view_name": "ProgressView",
      "bar_style": "success",
      "description": "",
      "description_tooltip": null,
      "layout": "IPY_MODEL_7635b8cd4b0748e784b264301b94e535",
      "max": 242065649,
      "min": 0,
      "orientation": "horizontal",
      "style": "IPY_MODEL_2b2393d742b344f5b1f79424dec2c4ca",
      "value": 242065649
     }
    },
    "4ed3f579be5d450aacfa0f970b8d81da": {
     "model_module": "@jupyter-widgets/controls",
     "model_module_version": "1.5.0",
     "model_name": "HTMLModel",
     "state": {
      "_dom_classes": [],
      "_model_module": "@jupyter-widgets/controls",
      "_model_module_version": "1.5.0",
      "_model_name": "HTMLModel",
      "_view_count": null,
      "_view_module": "@jupyter-widgets/controls",
      "_view_module_version": "1.5.0",
      "_view_name": "HTMLView",
      "description": "",
      "description_tooltip": null,
      "layout": "IPY_MODEL_3f127b730e024ffa91ab921ac5291c73",
      "placeholder": "​",
      "style": "IPY_MODEL_bbd6c25a5bef464fa74837811f1e3a39",
      "value": "Downloading (…)lve/main/config.json: 100%"
     }
    },
    "506f934b75c84618a49f92188d1520b3": {
     "model_module": "@jupyter-widgets/controls",
     "model_module_version": "1.5.0",
     "model_name": "HTMLModel",
     "state": {
      "_dom_classes": [],
      "_model_module": "@jupyter-widgets/controls",
      "_model_module_version": "1.5.0",
      "_model_name": "HTMLModel",
      "_view_count": null,
      "_view_module": "@jupyter-widgets/controls",
      "_view_module_version": "1.5.0",
      "_view_name": "HTMLView",
      "description": "",
      "description_tooltip": null,
      "layout": "IPY_MODEL_ecd2111b9e974b3eaf712610ac19bb9c",
      "placeholder": "​",
      "style": "IPY_MODEL_cc0c31d2e0f3494ca2d0440cf5d030d5",
      "value": "Downloading pytorch_model.bin: 100%"
     }
    },
    "5b28b54f06f7445aaeab92194bc5951f": {
     "model_module": "@jupyter-widgets/controls",
     "model_module_version": "1.5.0",
     "model_name": "HTMLModel",
     "state": {
      "_dom_classes": [],
      "_model_module": "@jupyter-widgets/controls",
      "_model_module_version": "1.5.0",
      "_model_name": "HTMLModel",
      "_view_count": null,
      "_view_module": "@jupyter-widgets/controls",
      "_view_module_version": "1.5.0",
      "_view_name": "HTMLView",
      "description": "",
      "description_tooltip": null,
      "layout": "IPY_MODEL_5f8fc5621284480bb1ca39ec6ddf7ff9",
      "placeholder": "​",
      "style": "IPY_MODEL_13a316e0e13c492b8c9a7b7b3ffdad99",
      "value": " 242M/242M [00:01&lt;00:00, 180MB/s]"
     }
    },
    "5f0dc2de13284933ae2439af1fe88753": {
     "model_module": "@jupyter-widgets/controls",
     "model_module_version": "1.5.0",
     "model_name": "FloatProgressModel",
     "state": {
      "_dom_classes": [],
      "_model_module": "@jupyter-widgets/controls",
      "_model_module_version": "1.5.0",
      "_model_name": "FloatProgressModel",
      "_view_count": null,
      "_view_module": "@jupyter-widgets/controls",
      "_view_module_version": "1.5.0",
      "_view_name": "ProgressView",
      "bar_style": "success",
      "description": "",
      "description_tooltip": null,
      "layout": "IPY_MODEL_442b5bbd50f145e9844495dcda8c09d5",
      "max": 1206,
      "min": 0,
      "orientation": "horizontal",
      "style": "IPY_MODEL_13efed5b0c204ce58120470ae37e6af2",
      "value": 1206
     }
    },
    "5f28f3c322484ff5a88e988790417d28": {
     "model_module": "@jupyter-widgets/base",
     "model_module_version": "1.2.0",
     "model_name": "LayoutModel",
     "state": {
      "_model_module": "@jupyter-widgets/base",
      "_model_module_version": "1.2.0",
      "_model_name": "LayoutModel",
      "_view_count": null,
      "_view_module": "@jupyter-widgets/base",
      "_view_module_version": "1.2.0",
      "_view_name": "LayoutView",
      "align_content": null,
      "align_items": null,
      "align_self": null,
      "border": null,
      "bottom": null,
      "display": null,
      "flex": null,
      "flex_flow": null,
      "grid_area": null,
      "grid_auto_columns": null,
      "grid_auto_flow": null,
      "grid_auto_rows": null,
      "grid_column": null,
      "grid_gap": null,
      "grid_row": null,
      "grid_template_areas": null,
      "grid_template_columns": null,
      "grid_template_rows": null,
      "height": null,
      "justify_content": null,
      "justify_items": null,
      "left": null,
      "margin": null,
      "max_height": null,
      "max_width": null,
      "min_height": null,
      "min_width": null,
      "object_fit": null,
      "object_position": null,
      "order": null,
      "overflow": null,
      "overflow_x": null,
      "overflow_y": null,
      "padding": null,
      "right": null,
      "top": null,
      "visibility": null,
      "width": null
     }
    },
    "5f8fc5621284480bb1ca39ec6ddf7ff9": {
     "model_module": "@jupyter-widgets/base",
     "model_module_version": "1.2.0",
     "model_name": "LayoutModel",
     "state": {
      "_model_module": "@jupyter-widgets/base",
      "_model_module_version": "1.2.0",
      "_model_name": "LayoutModel",
      "_view_count": null,
      "_view_module": "@jupyter-widgets/base",
      "_view_module_version": "1.2.0",
      "_view_name": "LayoutView",
      "align_content": null,
      "align_items": null,
      "align_self": null,
      "border": null,
      "bottom": null,
      "display": null,
      "flex": null,
      "flex_flow": null,
      "grid_area": null,
      "grid_auto_columns": null,
      "grid_auto_flow": null,
      "grid_auto_rows": null,
      "grid_column": null,
      "grid_gap": null,
      "grid_row": null,
      "grid_template_areas": null,
      "grid_template_columns": null,
      "grid_template_rows": null,
      "height": null,
      "justify_content": null,
      "justify_items": null,
      "left": null,
      "margin": null,
      "max_height": null,
      "max_width": null,
      "min_height": null,
      "min_width": null,
      "object_fit": null,
      "object_position": null,
      "order": null,
      "overflow": null,
      "overflow_x": null,
      "overflow_y": null,
      "padding": null,
      "right": null,
      "top": null,
      "visibility": null,
      "width": null
     }
    },
    "6431501c8c424881855cd372d2b37e77": {
     "model_module": "@jupyter-widgets/controls",
     "model_module_version": "1.5.0",
     "model_name": "HTMLModel",
     "state": {
      "_dom_classes": [],
      "_model_module": "@jupyter-widgets/controls",
      "_model_module_version": "1.5.0",
      "_model_name": "HTMLModel",
      "_view_count": null,
      "_view_module": "@jupyter-widgets/controls",
      "_view_module_version": "1.5.0",
      "_view_name": "HTMLView",
      "description": "",
      "description_tooltip": null,
      "layout": "IPY_MODEL_49cbb21b99d94a37b290943c926b1410",
      "placeholder": "​",
      "style": "IPY_MODEL_c479d3b81e4e4abcae5351bb1737155d",
      "value": " 792k/792k [00:00&lt;00:00, 12.4MB/s]"
     }
    },
    "6a04740303ed4265907db573a01dd5dc": {
     "model_module": "@jupyter-widgets/controls",
     "model_module_version": "1.5.0",
     "model_name": "HBoxModel",
     "state": {
      "_dom_classes": [],
      "_model_module": "@jupyter-widgets/controls",
      "_model_module_version": "1.5.0",
      "_model_name": "HBoxModel",
      "_view_count": null,
      "_view_module": "@jupyter-widgets/controls",
      "_view_module_version": "1.5.0",
      "_view_name": "HBoxView",
      "box_style": "",
      "children": [
       "IPY_MODEL_90b52d08441e4366a03ce5d943d4b3c3",
       "IPY_MODEL_12b42905d56947b2949ebfe2b202fe18",
       "IPY_MODEL_c723559e7e9b420bbf4c417625631647"
      ],
      "layout": "IPY_MODEL_49fe982496a64136a5a858a6191f1254"
     }
    },
    "6ae7d8496ac747e8989a8047775ba099": {
     "model_module": "@jupyter-widgets/base",
     "model_module_version": "1.2.0",
     "model_name": "LayoutModel",
     "state": {
      "_model_module": "@jupyter-widgets/base",
      "_model_module_version": "1.2.0",
      "_model_name": "LayoutModel",
      "_view_count": null,
      "_view_module": "@jupyter-widgets/base",
      "_view_module_version": "1.2.0",
      "_view_name": "LayoutView",
      "align_content": null,
      "align_items": null,
      "align_self": null,
      "border": null,
      "bottom": null,
      "display": null,
      "flex": null,
      "flex_flow": null,
      "grid_area": null,
      "grid_auto_columns": null,
      "grid_auto_flow": null,
      "grid_auto_rows": null,
      "grid_column": null,
      "grid_gap": null,
      "grid_row": null,
      "grid_template_areas": null,
      "grid_template_columns": null,
      "grid_template_rows": null,
      "height": null,
      "justify_content": null,
      "justify_items": null,
      "left": null,
      "margin": null,
      "max_height": null,
      "max_width": null,
      "min_height": null,
      "min_width": null,
      "object_fit": null,
      "object_position": null,
      "order": null,
      "overflow": null,
      "overflow_x": null,
      "overflow_y": null,
      "padding": null,
      "right": null,
      "top": null,
      "visibility": null,
      "width": null
     }
    },
    "71d0e0924bba466f8cabc03b0a050b88": {
     "model_module": "@jupyter-widgets/controls",
     "model_module_version": "1.5.0",
     "model_name": "HTMLModel",
     "state": {
      "_dom_classes": [],
      "_model_module": "@jupyter-widgets/controls",
      "_model_module_version": "1.5.0",
      "_model_name": "HTMLModel",
      "_view_count": null,
      "_view_module": "@jupyter-widgets/controls",
      "_view_module_version": "1.5.0",
      "_view_name": "HTMLView",
      "description": "",
      "description_tooltip": null,
      "layout": "IPY_MODEL_b707f3785b2d407db18f937c53d3cd65",
      "placeholder": "​",
      "style": "IPY_MODEL_384044f6a71b46c8bcf6495c6797c74c",
      "value": " 147/147 [00:00&lt;00:00, 4.17kB/s]"
     }
    },
    "7635b8cd4b0748e784b264301b94e535": {
     "model_module": "@jupyter-widgets/base",
     "model_module_version": "1.2.0",
     "model_name": "LayoutModel",
     "state": {
      "_model_module": "@jupyter-widgets/base",
      "_model_module_version": "1.2.0",
      "_model_name": "LayoutModel",
      "_view_count": null,
      "_view_module": "@jupyter-widgets/base",
      "_view_module_version": "1.2.0",
      "_view_name": "LayoutView",
      "align_content": null,
      "align_items": null,
      "align_self": null,
      "border": null,
      "bottom": null,
      "display": null,
      "flex": null,
      "flex_flow": null,
      "grid_area": null,
      "grid_auto_columns": null,
      "grid_auto_flow": null,
      "grid_auto_rows": null,
      "grid_column": null,
      "grid_gap": null,
      "grid_row": null,
      "grid_template_areas": null,
      "grid_template_columns": null,
      "grid_template_rows": null,
      "height": null,
      "justify_content": null,
      "justify_items": null,
      "left": null,
      "margin": null,
      "max_height": null,
      "max_width": null,
      "min_height": null,
      "min_width": null,
      "object_fit": null,
      "object_position": null,
      "order": null,
      "overflow": null,
      "overflow_x": null,
      "overflow_y": null,
      "padding": null,
      "right": null,
      "top": null,
      "visibility": null,
      "width": null
     }
    },
    "771cd557b6ce42a586878d2d05568e89": {
     "model_module": "@jupyter-widgets/base",
     "model_module_version": "1.2.0",
     "model_name": "LayoutModel",
     "state": {
      "_model_module": "@jupyter-widgets/base",
      "_model_module_version": "1.2.0",
      "_model_name": "LayoutModel",
      "_view_count": null,
      "_view_module": "@jupyter-widgets/base",
      "_view_module_version": "1.2.0",
      "_view_name": "LayoutView",
      "align_content": null,
      "align_items": null,
      "align_self": null,
      "border": null,
      "bottom": null,
      "display": null,
      "flex": null,
      "flex_flow": null,
      "grid_area": null,
      "grid_auto_columns": null,
      "grid_auto_flow": null,
      "grid_auto_rows": null,
      "grid_column": null,
      "grid_gap": null,
      "grid_row": null,
      "grid_template_areas": null,
      "grid_template_columns": null,
      "grid_template_rows": null,
      "height": null,
      "justify_content": null,
      "justify_items": null,
      "left": null,
      "margin": null,
      "max_height": null,
      "max_width": null,
      "min_height": null,
      "min_width": null,
      "object_fit": null,
      "object_position": null,
      "order": null,
      "overflow": null,
      "overflow_x": null,
      "overflow_y": null,
      "padding": null,
      "right": null,
      "top": null,
      "visibility": null,
      "width": null
     }
    },
    "81c37bcc6d684b47841805ed43c0d8aa": {
     "model_module": "@jupyter-widgets/base",
     "model_module_version": "1.2.0",
     "model_name": "LayoutModel",
     "state": {
      "_model_module": "@jupyter-widgets/base",
      "_model_module_version": "1.2.0",
      "_model_name": "LayoutModel",
      "_view_count": null,
      "_view_module": "@jupyter-widgets/base",
      "_view_module_version": "1.2.0",
      "_view_name": "LayoutView",
      "align_content": null,
      "align_items": null,
      "align_self": null,
      "border": null,
      "bottom": null,
      "display": null,
      "flex": null,
      "flex_flow": null,
      "grid_area": null,
      "grid_auto_columns": null,
      "grid_auto_flow": null,
      "grid_auto_rows": null,
      "grid_column": null,
      "grid_gap": null,
      "grid_row": null,
      "grid_template_areas": null,
      "grid_template_columns": null,
      "grid_template_rows": null,
      "height": null,
      "justify_content": null,
      "justify_items": null,
      "left": null,
      "margin": null,
      "max_height": null,
      "max_width": null,
      "min_height": null,
      "min_width": null,
      "object_fit": null,
      "object_position": null,
      "order": null,
      "overflow": null,
      "overflow_x": null,
      "overflow_y": null,
      "padding": null,
      "right": null,
      "top": null,
      "visibility": null,
      "width": null
     }
    },
    "90b52d08441e4366a03ce5d943d4b3c3": {
     "model_module": "@jupyter-widgets/controls",
     "model_module_version": "1.5.0",
     "model_name": "HTMLModel",
     "state": {
      "_dom_classes": [],
      "_model_module": "@jupyter-widgets/controls",
      "_model_module_version": "1.5.0",
      "_model_name": "HTMLModel",
      "_view_count": null,
      "_view_module": "@jupyter-widgets/controls",
      "_view_module_version": "1.5.0",
      "_view_name": "HTMLView",
      "description": "",
      "description_tooltip": null,
      "layout": "IPY_MODEL_0bb83c7a35754c46b704c68b95cf13d9",
      "placeholder": "​",
      "style": "IPY_MODEL_053a38fae8664d7a9f509fd6f9b13b35",
      "value": "Downloading (…)/main/tokenizer.json: 100%"
     }
    },
    "9860b04b1772493e819f80ceb1000aa0": {
     "model_module": "@jupyter-widgets/controls",
     "model_module_version": "1.5.0",
     "model_name": "HBoxModel",
     "state": {
      "_dom_classes": [],
      "_model_module": "@jupyter-widgets/controls",
      "_model_module_version": "1.5.0",
      "_model_name": "HBoxModel",
      "_view_count": null,
      "_view_module": "@jupyter-widgets/controls",
      "_view_module_version": "1.5.0",
      "_view_name": "HBoxView",
      "box_style": "",
      "children": [
       "IPY_MODEL_506f934b75c84618a49f92188d1520b3",
       "IPY_MODEL_4de12f5510974cd79848308c361db070",
       "IPY_MODEL_5b28b54f06f7445aaeab92194bc5951f"
      ],
      "layout": "IPY_MODEL_eb16d41e87a14b18a33ce16aab9c9c8c"
     }
    },
    "9e8c49cfece042298d111c9dcd5d8831": {
     "model_module": "@jupyter-widgets/controls",
     "model_module_version": "1.5.0",
     "model_name": "HBoxModel",
     "state": {
      "_dom_classes": [],
      "_model_module": "@jupyter-widgets/controls",
      "_model_module_version": "1.5.0",
      "_model_name": "HBoxModel",
      "_view_count": null,
      "_view_module": "@jupyter-widgets/controls",
      "_view_module_version": "1.5.0",
      "_view_name": "HBoxView",
      "box_style": "",
      "children": [
       "IPY_MODEL_dd2b9a3f127a445995d25db6058fa425",
       "IPY_MODEL_c2a59a1b016e4e4eabe47c41641d3322",
       "IPY_MODEL_71d0e0924bba466f8cabc03b0a050b88"
      ],
      "layout": "IPY_MODEL_ef16c90488864b088aa2f402cb3dbdf7"
     }
    },
    "a448c57bdb41434295c745f66c0639e6": {
     "model_module": "@jupyter-widgets/controls",
     "model_module_version": "1.5.0",
     "model_name": "DescriptionStyleModel",
     "state": {
      "_model_module": "@jupyter-widgets/controls",
      "_model_module_version": "1.5.0",
      "_model_name": "DescriptionStyleModel",
      "_view_count": null,
      "_view_module": "@jupyter-widgets/base",
      "_view_module_version": "1.2.0",
      "_view_name": "StyleView",
      "description_width": ""
     }
    },
    "a710d60f9cfa405b8de2f9658c65a24f": {
     "model_module": "@jupyter-widgets/base",
     "model_module_version": "1.2.0",
     "model_name": "LayoutModel",
     "state": {
      "_model_module": "@jupyter-widgets/base",
      "_model_module_version": "1.2.0",
      "_model_name": "LayoutModel",
      "_view_count": null,
      "_view_module": "@jupyter-widgets/base",
      "_view_module_version": "1.2.0",
      "_view_name": "LayoutView",
      "align_content": null,
      "align_items": null,
      "align_self": null,
      "border": null,
      "bottom": null,
      "display": null,
      "flex": null,
      "flex_flow": null,
      "grid_area": null,
      "grid_auto_columns": null,
      "grid_auto_flow": null,
      "grid_auto_rows": null,
      "grid_column": null,
      "grid_gap": null,
      "grid_row": null,
      "grid_template_areas": null,
      "grid_template_columns": null,
      "grid_template_rows": null,
      "height": null,
      "justify_content": null,
      "justify_items": null,
      "left": null,
      "margin": null,
      "max_height": null,
      "max_width": null,
      "min_height": null,
      "min_width": null,
      "object_fit": null,
      "object_position": null,
      "order": null,
      "overflow": null,
      "overflow_x": null,
      "overflow_y": null,
      "padding": null,
      "right": null,
      "top": null,
      "visibility": null,
      "width": null
     }
    },
    "b707f3785b2d407db18f937c53d3cd65": {
     "model_module": "@jupyter-widgets/base",
     "model_module_version": "1.2.0",
     "model_name": "LayoutModel",
     "state": {
      "_model_module": "@jupyter-widgets/base",
      "_model_module_version": "1.2.0",
      "_model_name": "LayoutModel",
      "_view_count": null,
      "_view_module": "@jupyter-widgets/base",
      "_view_module_version": "1.2.0",
      "_view_name": "LayoutView",
      "align_content": null,
      "align_items": null,
      "align_self": null,
      "border": null,
      "bottom": null,
      "display": null,
      "flex": null,
      "flex_flow": null,
      "grid_area": null,
      "grid_auto_columns": null,
      "grid_auto_flow": null,
      "grid_auto_rows": null,
      "grid_column": null,
      "grid_gap": null,
      "grid_row": null,
      "grid_template_areas": null,
      "grid_template_columns": null,
      "grid_template_rows": null,
      "height": null,
      "justify_content": null,
      "justify_items": null,
      "left": null,
      "margin": null,
      "max_height": null,
      "max_width": null,
      "min_height": null,
      "min_width": null,
      "object_fit": null,
      "object_position": null,
      "order": null,
      "overflow": null,
      "overflow_x": null,
      "overflow_y": null,
      "padding": null,
      "right": null,
      "top": null,
      "visibility": null,
      "width": null
     }
    },
    "ba44f27002c34b248ed4f70e1ac6f74d": {
     "model_module": "@jupyter-widgets/base",
     "model_module_version": "1.2.0",
     "model_name": "LayoutModel",
     "state": {
      "_model_module": "@jupyter-widgets/base",
      "_model_module_version": "1.2.0",
      "_model_name": "LayoutModel",
      "_view_count": null,
      "_view_module": "@jupyter-widgets/base",
      "_view_module_version": "1.2.0",
      "_view_name": "LayoutView",
      "align_content": null,
      "align_items": null,
      "align_self": null,
      "border": null,
      "bottom": null,
      "display": null,
      "flex": null,
      "flex_flow": null,
      "grid_area": null,
      "grid_auto_columns": null,
      "grid_auto_flow": null,
      "grid_auto_rows": null,
      "grid_column": null,
      "grid_gap": null,
      "grid_row": null,
      "grid_template_areas": null,
      "grid_template_columns": null,
      "grid_template_rows": null,
      "height": null,
      "justify_content": null,
      "justify_items": null,
      "left": null,
      "margin": null,
      "max_height": null,
      "max_width": null,
      "min_height": null,
      "min_width": null,
      "object_fit": null,
      "object_position": null,
      "order": null,
      "overflow": null,
      "overflow_x": null,
      "overflow_y": null,
      "padding": null,
      "right": null,
      "top": null,
      "visibility": null,
      "width": null
     }
    },
    "bbd6c25a5bef464fa74837811f1e3a39": {
     "model_module": "@jupyter-widgets/controls",
     "model_module_version": "1.5.0",
     "model_name": "DescriptionStyleModel",
     "state": {
      "_model_module": "@jupyter-widgets/controls",
      "_model_module_version": "1.5.0",
      "_model_name": "DescriptionStyleModel",
      "_view_count": null,
      "_view_module": "@jupyter-widgets/base",
      "_view_module_version": "1.2.0",
      "_view_name": "StyleView",
      "description_width": ""
     }
    },
    "bd8e3a9d758140ca88d08f95fc3d0e58": {
     "model_module": "@jupyter-widgets/controls",
     "model_module_version": "1.5.0",
     "model_name": "HTMLModel",
     "state": {
      "_dom_classes": [],
      "_model_module": "@jupyter-widgets/controls",
      "_model_module_version": "1.5.0",
      "_model_name": "HTMLModel",
      "_view_count": null,
      "_view_module": "@jupyter-widgets/controls",
      "_view_module_version": "1.5.0",
      "_view_name": "HTMLView",
      "description": "",
      "description_tooltip": null,
      "layout": "IPY_MODEL_a710d60f9cfa405b8de2f9658c65a24f",
      "placeholder": "​",
      "style": "IPY_MODEL_a448c57bdb41434295c745f66c0639e6",
      "value": "Downloading (…)ve/main/spiece.model: 100%"
     }
    },
    "c2a59a1b016e4e4eabe47c41641d3322": {
     "model_module": "@jupyter-widgets/controls",
     "model_module_version": "1.5.0",
     "model_name": "FloatProgressModel",
     "state": {
      "_dom_classes": [],
      "_model_module": "@jupyter-widgets/controls",
      "_model_module_version": "1.5.0",
      "_model_name": "FloatProgressModel",
      "_view_count": null,
      "_view_module": "@jupyter-widgets/controls",
      "_view_module_version": "1.5.0",
      "_view_name": "ProgressView",
      "bar_style": "success",
      "description": "",
      "description_tooltip": null,
      "layout": "IPY_MODEL_40b0e1c0bc2a40b08e4f46ab95fd5806",
      "max": 147,
      "min": 0,
      "orientation": "horizontal",
      "style": "IPY_MODEL_465b13292f2b40839211874c8c7c0aee",
      "value": 147
     }
    },
    "c479d3b81e4e4abcae5351bb1737155d": {
     "model_module": "@jupyter-widgets/controls",
     "model_module_version": "1.5.0",
     "model_name": "DescriptionStyleModel",
     "state": {
      "_model_module": "@jupyter-widgets/controls",
      "_model_module_version": "1.5.0",
      "_model_name": "DescriptionStyleModel",
      "_view_count": null,
      "_view_module": "@jupyter-widgets/base",
      "_view_module_version": "1.2.0",
      "_view_name": "StyleView",
      "description_width": ""
     }
    },
    "c723559e7e9b420bbf4c417625631647": {
     "model_module": "@jupyter-widgets/controls",
     "model_module_version": "1.5.0",
     "model_name": "HTMLModel",
     "state": {
      "_dom_classes": [],
      "_model_module": "@jupyter-widgets/controls",
      "_model_module_version": "1.5.0",
      "_model_name": "HTMLModel",
      "_view_count": null,
      "_view_module": "@jupyter-widgets/controls",
      "_view_module_version": "1.5.0",
      "_view_name": "HTMLView",
      "description": "",
      "description_tooltip": null,
      "layout": "IPY_MODEL_1373256b833b402b8c2e28ab825537a5",
      "placeholder": "​",
      "style": "IPY_MODEL_1970ae7144244e3eb650bc94f7b1c209",
      "value": " 1.39M/1.39M [00:00&lt;00:00, 8.00MB/s]"
     }
    },
    "cc0c31d2e0f3494ca2d0440cf5d030d5": {
     "model_module": "@jupyter-widgets/controls",
     "model_module_version": "1.5.0",
     "model_name": "DescriptionStyleModel",
     "state": {
      "_model_module": "@jupyter-widgets/controls",
      "_model_module_version": "1.5.0",
      "_model_name": "DescriptionStyleModel",
      "_view_count": null,
      "_view_module": "@jupyter-widgets/base",
      "_view_module_version": "1.2.0",
      "_view_name": "StyleView",
      "description_width": ""
     }
    },
    "d5ff21c53b644abbaa8c2a06c38d2d1d": {
     "model_module": "@jupyter-widgets/controls",
     "model_module_version": "1.5.0",
     "model_name": "DescriptionStyleModel",
     "state": {
      "_model_module": "@jupyter-widgets/controls",
      "_model_module_version": "1.5.0",
      "_model_name": "DescriptionStyleModel",
      "_view_count": null,
      "_view_module": "@jupyter-widgets/base",
      "_view_module_version": "1.2.0",
      "_view_name": "StyleView",
      "description_width": ""
     }
    },
    "dd2b9a3f127a445995d25db6058fa425": {
     "model_module": "@jupyter-widgets/controls",
     "model_module_version": "1.5.0",
     "model_name": "HTMLModel",
     "state": {
      "_dom_classes": [],
      "_model_module": "@jupyter-widgets/controls",
      "_model_module_version": "1.5.0",
      "_model_name": "HTMLModel",
      "_view_count": null,
      "_view_module": "@jupyter-widgets/controls",
      "_view_module_version": "1.5.0",
      "_view_name": "HTMLView",
      "description": "",
      "description_tooltip": null,
      "layout": "IPY_MODEL_ba44f27002c34b248ed4f70e1ac6f74d",
      "placeholder": "​",
      "style": "IPY_MODEL_ea43a14dd52e45038a3746743ab3faac",
      "value": "Downloading (…)neration_config.json: 100%"
     }
    },
    "ea43a14dd52e45038a3746743ab3faac": {
     "model_module": "@jupyter-widgets/controls",
     "model_module_version": "1.5.0",
     "model_name": "DescriptionStyleModel",
     "state": {
      "_model_module": "@jupyter-widgets/controls",
      "_model_module_version": "1.5.0",
      "_model_name": "DescriptionStyleModel",
      "_view_count": null,
      "_view_module": "@jupyter-widgets/base",
      "_view_module_version": "1.2.0",
      "_view_name": "StyleView",
      "description_width": ""
     }
    },
    "eb16d41e87a14b18a33ce16aab9c9c8c": {
     "model_module": "@jupyter-widgets/base",
     "model_module_version": "1.2.0",
     "model_name": "LayoutModel",
     "state": {
      "_model_module": "@jupyter-widgets/base",
      "_model_module_version": "1.2.0",
      "_model_name": "LayoutModel",
      "_view_count": null,
      "_view_module": "@jupyter-widgets/base",
      "_view_module_version": "1.2.0",
      "_view_name": "LayoutView",
      "align_content": null,
      "align_items": null,
      "align_self": null,
      "border": null,
      "bottom": null,
      "display": null,
      "flex": null,
      "flex_flow": null,
      "grid_area": null,
      "grid_auto_columns": null,
      "grid_auto_flow": null,
      "grid_auto_rows": null,
      "grid_column": null,
      "grid_gap": null,
      "grid_row": null,
      "grid_template_areas": null,
      "grid_template_columns": null,
      "grid_template_rows": null,
      "height": null,
      "justify_content": null,
      "justify_items": null,
      "left": null,
      "margin": null,
      "max_height": null,
      "max_width": null,
      "min_height": null,
      "min_width": null,
      "object_fit": null,
      "object_position": null,
      "order": null,
      "overflow": null,
      "overflow_x": null,
      "overflow_y": null,
      "padding": null,
      "right": null,
      "top": null,
      "visibility": null,
      "width": null
     }
    },
    "ecd2111b9e974b3eaf712610ac19bb9c": {
     "model_module": "@jupyter-widgets/base",
     "model_module_version": "1.2.0",
     "model_name": "LayoutModel",
     "state": {
      "_model_module": "@jupyter-widgets/base",
      "_model_module_version": "1.2.0",
      "_model_name": "LayoutModel",
      "_view_count": null,
      "_view_module": "@jupyter-widgets/base",
      "_view_module_version": "1.2.0",
      "_view_name": "LayoutView",
      "align_content": null,
      "align_items": null,
      "align_self": null,
      "border": null,
      "bottom": null,
      "display": null,
      "flex": null,
      "flex_flow": null,
      "grid_area": null,
      "grid_auto_columns": null,
      "grid_auto_flow": null,
      "grid_auto_rows": null,
      "grid_column": null,
      "grid_gap": null,
      "grid_row": null,
      "grid_template_areas": null,
      "grid_template_columns": null,
      "grid_template_rows": null,
      "height": null,
      "justify_content": null,
      "justify_items": null,
      "left": null,
      "margin": null,
      "max_height": null,
      "max_width": null,
      "min_height": null,
      "min_width": null,
      "object_fit": null,
      "object_position": null,
      "order": null,
      "overflow": null,
      "overflow_x": null,
      "overflow_y": null,
      "padding": null,
      "right": null,
      "top": null,
      "visibility": null,
      "width": null
     }
    },
    "ed182dd854d1439ab6d44e39210d7074": {
     "model_module": "@jupyter-widgets/controls",
     "model_module_version": "1.5.0",
     "model_name": "HBoxModel",
     "state": {
      "_dom_classes": [],
      "_model_module": "@jupyter-widgets/controls",
      "_model_module_version": "1.5.0",
      "_model_name": "HBoxModel",
      "_view_count": null,
      "_view_module": "@jupyter-widgets/controls",
      "_view_module_version": "1.5.0",
      "_view_name": "HBoxView",
      "box_style": "",
      "children": [
       "IPY_MODEL_4ed3f579be5d450aacfa0f970b8d81da",
       "IPY_MODEL_5f0dc2de13284933ae2439af1fe88753",
       "IPY_MODEL_3d98bfe346ed40a8bd5d46de450bca24"
      ],
      "layout": "IPY_MODEL_1737ac3e202a41688c4adb0b498ec58f"
     }
    },
    "ef16c90488864b088aa2f402cb3dbdf7": {
     "model_module": "@jupyter-widgets/base",
     "model_module_version": "1.2.0",
     "model_name": "LayoutModel",
     "state": {
      "_model_module": "@jupyter-widgets/base",
      "_model_module_version": "1.2.0",
      "_model_name": "LayoutModel",
      "_view_count": null,
      "_view_module": "@jupyter-widgets/base",
      "_view_module_version": "1.2.0",
      "_view_name": "LayoutView",
      "align_content": null,
      "align_items": null,
      "align_self": null,
      "border": null,
      "bottom": null,
      "display": null,
      "flex": null,
      "flex_flow": null,
      "grid_area": null,
      "grid_auto_columns": null,
      "grid_auto_flow": null,
      "grid_auto_rows": null,
      "grid_column": null,
      "grid_gap": null,
      "grid_row": null,
      "grid_template_areas": null,
      "grid_template_columns": null,
      "grid_template_rows": null,
      "height": null,
      "justify_content": null,
      "justify_items": null,
      "left": null,
      "margin": null,
      "max_height": null,
      "max_width": null,
      "min_height": null,
      "min_width": null,
      "object_fit": null,
      "object_position": null,
      "order": null,
      "overflow": null,
      "overflow_x": null,
      "overflow_y": null,
      "padding": null,
      "right": null,
      "top": null,
      "visibility": null,
      "width": null
     }
    }
   }
  }
 },
 "nbformat": 4,
 "nbformat_minor": 5
}
