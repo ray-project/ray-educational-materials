{
 "cells": [
  {
   "cell_type": "markdown",
   "metadata": {},
   "source": [
    "# Title\n",
    "\n",
    "<img src=\"../assets/Generic/ray_logo.png\" width=\"20%\" loading=\"lazy\">\n",
    "\n",
    "## About this notebook\n",
    "\n",
    "### Is this module right for you?\n",
    "\n",
    "Use this space to provide a high-level summary of this module along with what the learner can expect to accomplish upon completion.\n",
    "\n",
    "You should use a list to outline what the target audience is for this module. The lead-in to the list should be a full sentence. The following is an example descriptive list of the ideal audience with a focus on their problems to solve:\n",
    "\n",
    "<div class=\"alert alert-success\">\n",
    "  This notebook will be relevant if you have encountered the following:\n",
    "  \n",
    "  * You observe performance bottlenecks when working on batch inference problems in computer vision projects.\n",
    "  * You want to scale or increase throughput of existing batch inference pipelines.\n",
    "  * You wish to explore different architectures for scaling batch inference with Ray Core and Ray AIR.\n",
    "</div>\n",
    "\n",
    "As a reminder, follow [this style](https://developers.google.com/style/lists) for lists.\n",
    "\n",
    "### Prerequisites\n",
    "\n",
    "List the reasonable prerequisites for this module. Try to keep the content of this section as compact as possible, preferably with only bulleted list items and no lead-in description. The following is an example of a prerequisites list:\n",
    "\n",
    "<div class=\"alert alert-success\">\n",
    "\n",
    "* Practical Python and machine learning experience.\n",
    "* Basic familiarity with Ray, equivalent to completing this module:\n",
    "    * [Overview of Ray](https://github.com/ray-project/ray-educational-materials/blob/main/Introductory_modules/Overview_of_Ray.ipynb)\n",
    "</div>\n",
    "\n",
    "### Learning objectives\n",
    "\n",
    "You may find this reference to [Bloom's Taxonomy Verb Chart](https://tips.uark.edu/blooms-taxonomy-verb-chart/) helpful for describing different levels of understanding. The following is an example of a module's learning objectives:\n",
    "\n",
    "<div class=\"alert alert-success\">\n",
    "\n",
    "* Understand common design patterns for distributed batch inference.\n",
    "* Implement scalable batch inference with Ray.\n",
    "* Extend each approach by tuning performance.\n",
    "* Compare scalable batch inference architectures on Ray to evaluate which is most relevant to your work.\n",
    "</div>\n",
    "\n",
    "### What will you do?\n",
    "\n",
    "Use this section to provide an informal outline or table of contents for the module. It's up to you whether to use a bulleted list, table, or sentences to describe the notebook's progression."
   ]
  },
  {
   "cell_type": "markdown",
   "metadata": {},
   "source": [
    "## Section heading (H2)\n",
    "\n",
    "Use a section heading for major parts of a module.\n",
    "\n",
    "### Subsection heading (H3)\n",
    "\n",
    "Use a subsection heading for subparts of a section.\n",
    "\n",
    "#### Subsubsection heading (H4)\n",
    "\n",
    "Use a subsubsection heading for subparts of a subsection.\n",
    "\n",
    "**Small heading**\n",
    "\n",
    "Use a bolded header for situations where you do not intend on creating a new section, but rather, you would like to call special attention to an exercise, list, or something small."
   ]
  },
  {
   "cell_type": "markdown",
   "metadata": {},
   "source": [
    "### Images\n",
    "|<img src=\"../assets/Introduction_to_Ray_AIR/e2e_air.png\" width=\"70%\" loading=\"lazy\">|\n",
    "|:--|\n",
    "|Each image should contain a full sentence caption that describes it.|\n",
    "\n",
    "### Definitions\n",
    "<div class=\"alert alert-info\">\n",
    "  <strong>Definition:</a></strong> use this alert type for definitions of new vocabulary or concepts.\n",
    "</div>"
   ]
  },
  {
   "cell_type": "markdown",
   "metadata": {},
   "source": [
    "### Example code cell with comments and type hints"
   ]
  },
  {
   "cell_type": "code",
   "execution_count": null,
   "metadata": {},
   "outputs": [],
   "source": [
    "def predict(\n",
    "    model: SegformerForSemanticSegmentation,\n",
    "    feature_extractor: SegformerFeatureExtractor,\n",
    "    images: list[JpegImageFile],\n",
    ") -> list[np.array]:\n",
    "\n",
    "    # Set the device on which PyTorch will run.\n",
    "    device = torch.device(\"cuda\" if torch.cuda.is_available() else \"cpu\")\n",
    "    model.to(device)  # Move the model to specified device.\n",
    "    model.eval()  # Set the model in evaluation mode on test data.\n",
    "\n",
    "    # The feature extractor processes raw images.\n",
    "    inputs = feature_extractor(images=images, return_tensors=\"pt\")\n",
    "\n",
    "    # The model is applied to input images in the inference step.\n",
    "    with torch.no_grad():\n",
    "        outputs = model(pixel_values=inputs.pixel_values.to(device))\n",
    "\n",
    "    # Post-process the output for display.\n",
    "    image_sizes = [image.size[::-1] for image in images]\n",
    "    segmentation_maps_postprocessed = (\n",
    "        feature_extractor.post_process_semantic_segmentation(\n",
    "            outputs=outputs, target_sizes=image_sizes\n",
    "        )\n",
    "    )\n",
    "\n",
    "    # Return list of segmentation maps detached from the computation graph.\n",
    "    return [j.detach().cpu().numpy() for j in segmentation_maps_postprocessed]"
   ]
  },
  {
   "cell_type": "markdown",
   "metadata": {},
   "source": [
    "Code explanations that do not fit within small embedded comments come after the Python cell in a Markdown cell. \n",
    "\n",
    "<div class=\"alert alert-warning\">\n",
    "  <strong>Tip</strong>\n",
    "\n",
    "  You can use this alert for tips, special notes, and warnings.\n",
    "</div>"
   ]
  },
  {
   "cell_type": "markdown",
   "metadata": {},
   "source": [
    "### Coding exercises\n",
    "\n",
    "Coding exercises should be as descriptive and precise as possible. Whenever possible, include links to external references, example outputs, and tips/hints. Exercises should include a sample implementation. The following is an example coding exercise:\n",
    "\n",
    "<div class=\"alert alert-light\">\n",
    "\n",
    "**Coding exercise**\n",
    "\n",
    "There are many [`Dataset` API elements](https://docs.ray.io/en/latest/data/api/dataset.html#) available for common transformations and operations. Try completing the following tasks:\n",
    "\n",
    "1. Inspect [the schema](https://docs.ray.io/en/latest/data/api/dataset.html#inspecting-metadata) of the underlying Parquet metadata.\n",
    "2. [Count](https://docs.ray.io/en/latest/data/api/dataset.html#inspecting-metadata) the number of rows in the training and validation datasets.\n",
    "3. [Show](https://docs.ray.io/en/latest/data/api/dataset.html#consuming-datasets) the first five samples from either dataset.\n",
    "4. Calculate the average `fare_amount` [grouped by](https://docs.ray.io/en/latest/data/api/dataset.html#grouped-and-global-aggregations) `passenger_count`.\n",
    "\n",
    "</div>"
   ]
  },
  {
   "cell_type": "code",
   "execution_count": null,
   "metadata": {},
   "outputs": [],
   "source": [
    "### YOUR CODE HERE ###\n"
   ]
  },
  {
   "cell_type": "markdown",
   "metadata": {},
   "source": [
    "**Solution**"
   ]
  },
  {
   "cell_type": "code",
   "execution_count": null,
   "metadata": {},
   "outputs": [],
   "source": [
    "### SAMPLE IMPLEMENTATION ###"
   ]
  },
  {
   "cell_type": "markdown",
   "metadata": {},
   "source": [
    "### Summary\n",
    "\n",
    "Summary sections should come at the end of any major part and restates relevant content.\n",
    "\n",
    "#### Key concepts\n",
    "\n",
    "<div class=\"alert alert-info\">\n",
    "  <strong>Concept:</strong> provide the definition of a key concept here. Exact style choice for key concepts is up to you.\n",
    "</div>\n",
    "\n",
    "#### Key API elements\n",
    "\n",
    "**`Element`**\n",
    "\n",
    "Description for this element with link to references if applicable."
   ]
  },
  {
   "cell_type": "markdown",
   "metadata": {},
   "source": [
    "# Connect with the Ray community\n",
    "\n",
    "You can learn and get more involved with the Ray community of developers and researchers:\n",
    "\n",
    "* [**Ray documentation**](https://docs.ray.io/en/latest)\n",
    "\n",
    "* [**Official Ray site**](https://www.ray.io/)  \n",
    "Browse the ecosystem and use this site as a hub to get the information that you need to get going and building with Ray.\n",
    "\n",
    "* [**Join the community on Slack**](https://forms.gle/9TSdDYUgxYs8SA9e8)  \n",
    "Find friends to discuss your new learnings in our Slack space.\n",
    "\n",
    "* [**Use the discussion board**](https://discuss.ray.io/)  \n",
    "Ask questions, follow topics, and view announcements on this community forum.\n",
    "\n",
    "* [**Join a meetup group**](https://www.meetup.com/Bay-Area-Ray-Meetup/)  \n",
    "Tune in on meet-ups to listen to compelling talks, get to know other users, and meet the team behind Ray.\n",
    "\n",
    "* [**Open an issue**](https://github.com/ray-project/ray/issues/new/choose)  \n",
    "Ray is constantly evolving to improve developer experience. Submit feature requests, bug-reports, and get help via GitHub issues.\n",
    "\n",
    "* [**Become a Ray contributor**](https://docs.ray.io/en/latest/ray-contribute/getting-involved.html)  \n",
    "We welcome community contributions to improve our documentation and Ray framework.\n",
    "\n",
    "<img src=\"../assets/Generic/ray_logo.png\" width=\"20%\" loading=\"lazy\">"
   ]
  }
 ],
 "metadata": {
  "language_info": {
   "codemirror_mode": {
    "name": "ipython",
    "version": 3
   },
   "file_extension": ".py",
   "mimetype": "text/x-python",
   "name": "python",
   "nbconvert_exporter": "python",
   "pygments_lexer": "ipython3",
   "version": "3.10.6"
  }
 },
 "nbformat": 4,
 "nbformat_minor": 4
}
