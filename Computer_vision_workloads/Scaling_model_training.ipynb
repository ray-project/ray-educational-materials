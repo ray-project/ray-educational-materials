{
 "cells": [
  {
   "cell_type": "markdown",
   "id": "99f67c1f-a7ff-4bd8-87e0-d8c9fe733ed3",
   "metadata": {},
   "source": [
    "# Scaling model training with Ray"
   ]
  },
  {
   "cell_type": "code",
   "execution_count": null,
   "id": "7f557976-ada5-479f-858b-ef7cb540b52e",
   "metadata": {},
   "outputs": [],
   "source": [
    "import ray"
   ]
  }
 ],
 "metadata": {
  "kernelspec": {
   "display_name": "Python 3 (ipykernel)",
   "language": "python",
   "name": "python3"
  },
  "language_info": {
   "codemirror_mode": {
    "name": "ipython",
    "version": 3
   },
   "file_extension": ".py",
   "mimetype": "text/x-python",
   "name": "python",
   "nbconvert_exporter": "python",
   "pygments_lexer": "ipython3",
   "version": "3.8.13"
  }
 },
 "nbformat": 4,
 "nbformat_minor": 5
}
