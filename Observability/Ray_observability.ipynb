{
 "cells": [
  {
   "cell_type": "code",
   "execution_count": null,
   "metadata": {},
   "outputs": [],
   "source": [
    "import ray\n",
    "import time"
   ]
  },
  {
   "cell_type": "code",
   "execution_count": null,
   "metadata": {},
   "outputs": [],
   "source": [
    "if ray.is_initialized():\n",
    "\tray.shutdown()\n",
    "\n",
    "ray.init()"
   ]
  },
  {
   "cell_type": "code",
   "execution_count": null,
   "metadata": {},
   "outputs": [],
   "source": [
    "@ray.remote\n",
    "def task():\n",
    "\ttime.sleep(100)\n",
    "\n",
    "@ray.remote\n",
    "class Actor:\n",
    "\tdef call(self):\n",
    "\t\tprint(\"Actor called.\")"
   ]
  },
  {
   "cell_type": "code",
   "execution_count": null,
   "metadata": {},
   "outputs": [],
   "source": [
    "task.remote()"
   ]
  },
  {
   "cell_type": "code",
   "execution_count": null,
   "metadata": {},
   "outputs": [],
   "source": [
    "!ray summary tasks"
   ]
  },
  {
   "cell_type": "code",
   "execution_count": null,
   "metadata": {},
   "outputs": [],
   "source": [
    "actor = Actor.remote()\n",
    "actor.call.remote()"
   ]
  },
  {
   "cell_type": "code",
   "execution_count": null,
   "metadata": {},
   "outputs": [],
   "source": [
    "!ray list actors"
   ]
  },
  {
   "cell_type": "code",
   "execution_count": null,
   "metadata": {},
   "outputs": [],
   "source": [
    "!ray get a913f6c55fe74f67bdf5f1b701000000"
   ]
  },
  {
   "cell_type": "code",
   "execution_count": null,
   "metadata": {},
   "outputs": [],
   "source": [
    "task.remote()\n",
    "sample_actor = Actor.remote()\n",
    "sample_actor.call.remote()"
   ]
  },
  {
   "cell_type": "code",
   "execution_count": null,
   "metadata": {},
   "outputs": [],
   "source": [
    "running = False # Set to True to run the memory leaker.\n",
    "\n",
    "@ray.remote(max_retries = 0)\n",
    "def memory_leaker():\n",
    "   chunks = []\n",
    "   bytes_per_chunk = 1024 * 1024 * 1024 # 1 gigabyte.\n",
    "   while running:\n",
    "       chunks.append([0] * bytes_per_chunk)\n",
    "       time.sleep(5) # Delay to observe the leak.\n",
    "\n",
    "ray.get(memory_leaker.remote())"
   ]
  },
  {
   "cell_type": "code",
   "execution_count": null,
   "metadata": {},
   "outputs": [],
   "source": [
    "### SAMPLE STARTER SCRIPT ###\n",
    "\n",
    "@ray.remote\n",
    "class Leaker:\n",
    "    def __init__(self):\n",
    "        self.leaks = []\n",
    "\n",
    "    def allocate(self, num_bytes: int, sleep_time_s: int):\n",
    "        # Each element in the array occupies 8 bytes.\n",
    "        new_list = [0] * ceil(num_bytes / 8)\n",
    "        self.leaks.append(new_list)\n",
    "\n",
    "        time.sleep(sleep_time_s)\n",
    "\n",
    "### YOUR CODE HERE ###\n"
   ]
  },
  {
   "cell_type": "code",
   "execution_count": null,
   "metadata": {},
   "outputs": [],
   "source": [
    "import numpy as np"
   ]
  },
  {
   "cell_type": "code",
   "execution_count": null,
   "metadata": {},
   "outputs": [],
   "source": [
    "def process_results(results):\n",
    "    # Custom logic here.\n",
    "    pass\n",
    "\n",
    "@ray.remote\n",
    "def return_big_object():\n",
    "    return np.zeros(1024 * 10)\n",
    "\n",
    "NUM_TASKS = 1000\n",
    "\n",
    "object_refs = [return_big_object.remote() for _ in range(NUM_TASKS)]\n",
    "# This will fail with heap out-of-memory\n",
    "# or object store out-of-space if NUM_TASKS is large enough.\n",
    "results = ray.get(object_refs)\n",
    "process_results(results)"
   ]
  },
  {
   "cell_type": "code",
   "execution_count": null,
   "metadata": {},
   "outputs": [],
   "source": [
    "BATCH_SIZE = 100\n",
    "\n",
    "while object_refs:\n",
    "    # Process results in the finish order instead of the submission order.\n",
    "    ready_object_refs, object_refs = ray.wait(object_refs, num_returns=BATCH_SIZE)\n",
    "    # The node only needs enough space to store\n",
    "    # a batch of objects instead of all objects.\n",
    "    results = ray.get(ready_object_refs)\n",
    "    process_results(results)"
   ]
  },
  {
   "cell_type": "code",
   "execution_count": null,
   "metadata": {},
   "outputs": [],
   "source": [
    "import random"
   ]
  },
  {
   "cell_type": "code",
   "execution_count": null,
   "metadata": {},
   "outputs": [],
   "source": [
    "@ray.remote\n",
    "def sleep_task(i: int) -> int:\n",
    "   time.sleep(i)\n",
    "   return i\n",
    "\n",
    "def post_processing_step(new_val: int):\n",
    "\ttime.sleep(0.5)\n",
    "\n",
    "big_sleep_times = [10]\n",
    "small_sleep_times = [random.random() for _ in range(20)]\n",
    "SLEEP_TIMES = big_sleep_times + small_sleep_times\n",
    "\n",
    "# Launch remote tasks\n",
    "refs = [sleep_task.remote(i) for i in SLEEP_TIMES]\n",
    "for ref in refs:\n",
    "\t# Blocks until this ObjectRef is ready.\n",
    "\tresult = ray.get(ref) # Retrieve result in submission order.\n",
    "\tpost_processing_step(result) # Process the result."
   ]
  },
  {
   "cell_type": "code",
   "execution_count": null,
   "metadata": {},
   "outputs": [],
   "source": [
    "### YOUR CODE HERE ###"
   ]
  },
  {
   "cell_type": "code",
   "execution_count": null,
   "metadata": {},
   "outputs": [],
   "source": [
    "### SAMPLE IMPLEMENTATION ###\n",
    "\n",
    "# Launch remote tasks.\n",
    "refs = [sleep_task.remote(i) for i in SLEEP_TIMES]\n",
    "unfinished = refs\n",
    "while unfinished:\n",
    "\t# Returns the first ObjectRef that is ready.\n",
    "\tfinished, unfinished = ray.wait(unfinished, num_returns=1)\n",
    "\t# Retrieve the first ready result.\n",
    "\tresult = ray.get(finished[0])\n",
    "\t# Process the result.\n",
    "\tpost_processing_step(result)"
   ]
  },
  {
   "cell_type": "code",
   "execution_count": null,
   "metadata": {},
   "outputs": [],
   "source": [
    "@ray.remote\n",
    "def f(i):\n",
    "    return i\n",
    "\n",
    "# Anti-pattern: no parallelism due to calling ray.get inside of the loop.\n",
    "sequential_returns = []\n",
    "for i in range(100):\n",
    "    sequential_returns.append(ray.get(f.remote(i)))"
   ]
  },
  {
   "cell_type": "code",
   "execution_count": null,
   "metadata": {},
   "outputs": [],
   "source": [
    "### YOUR CODE HERE ###"
   ]
  },
  {
   "cell_type": "code",
   "execution_count": null,
   "metadata": {},
   "outputs": [],
   "source": [
    "### SAMPLE IMPLEMENTATION ###\n",
    "refs = []\n",
    "for i in range(100):\n",
    "    refs.append(f.remote(i))\n",
    "\n",
    "parallel_returns = ray.get(refs)"
   ]
  }
 ],
 "metadata": {
  "language_info": {
   "codemirror_mode": {
    "name": "ipython",
    "version": 3
   },
   "file_extension": ".py",
   "mimetype": "text/x-python",
   "name": "python",
   "nbconvert_exporter": "python",
   "pygments_lexer": "ipython3",
   "version": "3.10.6"
  },
  "vscode": {
   "interpreter": {
    "hash": "567405a8058597909526349386224fe35dd047505a91307e44ed44be00113429"
   }
  }
 },
 "nbformat": 4,
 "nbformat_minor": 2
}
